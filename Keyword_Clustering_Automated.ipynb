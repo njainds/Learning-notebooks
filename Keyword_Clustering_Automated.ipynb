{
 "cells": [
  {
   "cell_type": "markdown",
   "metadata": {},
   "source": [
    "## Keyword Clustering (automation of end-to-end process)"
   ]
  },
  {
   "cell_type": "markdown",
   "metadata": {},
   "source": [
    "### Imports"
   ]
  },
  {
   "cell_type": "code",
   "execution_count": 1,
   "metadata": {
    "collapsed": false
   },
   "outputs": [],
   "source": [
    "%matplotlib inline\n",
    "\n",
    "import numpy as np\n",
    "import pandas as pd\n",
    "import os\n",
    "import pylab\n",
    "import math\n",
    "\n",
    "from datetime import date\n",
    "from datetime import datetime\n",
    "import datetime as dt\n",
    "from pylab import plot,show\n",
    "from numpy import vstack,array\n",
    "from numpy.random import rand\n",
    "from scipy.cluster.vq import kmeans,vq\n",
    "from scipy.cluster.hierarchy import fcluster\n",
    "from matplotlib import pyplot as plt\n",
    "from sklearn import metrics\n",
    "from scipy.cluster.hierarchy import dendrogram, linkage\n",
    "from sklearn.metrics import silhouette_samples, silhouette_score\n",
    "from scipy import stats"
   ]
  },
  {
   "cell_type": "code",
   "execution_count": 2,
   "metadata": {
    "collapsed": false
   },
   "outputs": [
    {
     "name": "stderr",
     "output_type": "stream",
     "text": [
      "/opt/Envs/DS-Py/lib/python2.7/site-packages/rpy2/rinterface/__init__.py:185: RRuntimeWarning: Loading required package: ggplot2\n",
      "\n",
      "  warnings.warn(x, RRuntimeWarning)\n",
      "/opt/Envs/DS-Py/lib/python2.7/site-packages/rpy2/rinterface/__init__.py:185: RRuntimeWarning: Loading required package: scales\n",
      "\n",
      "  warnings.warn(x, RRuntimeWarning)\n",
      "/opt/Envs/DS-Py/lib/python2.7/site-packages/rpy2/rinterface/__init__.py:185: RRuntimeWarning: Loading required package: stringr\n",
      "\n",
      "  warnings.warn(x, RRuntimeWarning)\n",
      "/opt/Envs/DS-Py/lib/python2.7/site-packages/rpy2/rinterface/__init__.py:185: RRuntimeWarning: Loading required package: rpart\n",
      "\n",
      "  warnings.warn(x, RRuntimeWarning)\n",
      "/opt/Envs/DS-Py/lib/python2.7/site-packages/rpy2/rinterface/__init__.py:185: RRuntimeWarning: Loading required package: rpart.plot\n",
      "\n",
      "  warnings.warn(x, RRuntimeWarning)\n"
     ]
    },
    {
     "data": {
      "text/plain": [
       "array([1], dtype=int32)"
      ]
     },
     "execution_count": 2,
     "metadata": {},
     "output_type": "execute_result"
    }
   ],
   "source": [
    "from rpy2.robjects import r\n",
    "import rpy2.robjects as robjects\n",
    "\n",
    "%load_ext rpy2.ipython\n",
    "%R require(\"ggplot2\")\n",
    "%R require(\"scales\")\n",
    "%R require(\"stringr\")\n",
    "%R require(\"rpart\")\n",
    "%R require(\"rpart.plot\")"
   ]
  },
  {
   "cell_type": "code",
   "execution_count": 3,
   "metadata": {
    "collapsed": false
   },
   "outputs": [],
   "source": [
    "%%R -w 14200 -h 480 -u px\n",
    "library(ggplot2)\n",
    "\n",
    "library(rpart)\n",
    "library(rpart.plot)"
   ]
  },
  {
   "cell_type": "markdown",
   "metadata": {},
   "source": [
    "### Set the output location"
   ]
  },
  {
   "cell_type": "code",
   "execution_count": 4,
   "metadata": {
    "collapsed": true
   },
   "outputs": [],
   "source": [
    "# SET THE OUTPUT LOCATION PATH\n",
    "output_location = \"/home/dsuser/rakhi/SEM/ClusteringProcess/DF/18Nov2015_17Nov2016/\"\n",
    "#output_location = \"/home/dsuser/rakhi/SEM/clustering/\""
   ]
  },
  {
   "cell_type": "markdown",
   "metadata": {},
   "source": [
    "### Data extraction from database"
   ]
  },
  {
   "cell_type": "code",
   "execution_count": 5,
   "metadata": {
    "collapsed": false,
    "scrolled": true
   },
   "outputs": [
    {
     "name": "stdout",
     "output_type": "stream",
     "text": [
      "AdGroupId           2263006\n",
      "KeywordId           2263006\n",
      "Date                2263006\n",
      "Keyword             2263006\n",
      "KeywordMatchType    2263006\n",
      "QualityScore        2263006\n",
      "Clicks              2263006\n",
      "AveragePosition     2263006\n",
      "MaxCPC              2263006\n",
      "AverageCPC          2263006\n",
      "Impressions         2263006\n",
      "CTR                 2263006\n",
      "Revenue                   0\n",
      "Orders                    0\n",
      "ShopperCount          77362\n",
      "AdGroupIdDup        2263006\n",
      "LatestMaxCPC        2263006\n",
      "dtype: int64\n"
     ]
    }
   ],
   "source": [
    "df = pd.read_csv(output_location+'/data_df_18nov2015_to_17nov2016.csv', sep = '\\t', header = -1)\n",
    "df.columns = ['AdGroupId','KeywordId','Date','Keyword','KeywordMatchType','QualityScore','Clicks','AveragePosition','MaxCPC','AverageCPC','Impressions','CTR','Revenue','Orders','ShopperCount','AdGroupIdDup','LatestMaxCPC']\n",
    "#print df.head()\n",
    "print df.count()"
   ]
  },
  {
   "cell_type": "code",
   "execution_count": 6,
   "metadata": {
    "collapsed": false
   },
   "outputs": [
    {
     "data": {
      "text/plain": [
       "57033"
      ]
     },
     "execution_count": 6,
     "metadata": {},
     "output_type": "execute_result"
    }
   ],
   "source": [
    "len(set(df['KeywordId']))"
   ]
  },
  {
   "cell_type": "markdown",
   "metadata": {},
   "source": [
    "### Step 1: Computing features for each keyword in the given portfolio, using historical search data"
   ]
  },
  {
   "cell_type": "code",
   "execution_count": 7,
   "metadata": {
    "collapsed": false
   },
   "outputs": [
    {
     "name": "stderr",
     "output_type": "stream",
     "text": [
      "/opt/Envs/DS-Py/lib/python2.7/site-packages/ipykernel/__main__.py:2: FutureWarning: sort(columns=....) is deprecated, use sort_values(by=.....)\n",
      "  from ipykernel import kernelapp as app\n",
      "/opt/Envs/DS-Py/lib/python2.7/site-packages/ipykernel/__main__.py:5: FutureWarning: the take_last=True keyword is deprecated, use keep='last' instead\n"
     ]
    },
    {
     "name": "stdout",
     "output_type": "stream",
     "text": [
      "AdGroupId           1333868\n",
      "KeywordId           1333868\n",
      "Date                1333868\n",
      "Keyword             1333868\n",
      "KeywordMatchType    1333868\n",
      "QualityScore        1333868\n",
      "Clicks              1333868\n",
      "AveragePosition     1333868\n",
      "MaxCPC              1333868\n",
      "AverageCPC          1333868\n",
      "Impressions         1333868\n",
      "CTR                 1333868\n",
      "Revenue                   0\n",
      "Orders                    0\n",
      "ShopperCount          44909\n",
      "AdGroupIdDup        1333868\n",
      "LatestMaxCPC        1333868\n",
      "dtype: int64\n"
     ]
    },
    {
     "name": "stderr",
     "output_type": "stream",
     "text": [
      "/opt/Envs/DS-Py/lib/python2.7/site-packages/pandas/core/frame.py:2705: SettingWithCopyWarning: \n",
      "A value is trying to be set on a copy of a slice from a DataFrame\n",
      "\n",
      "See the caveats in the documentation: http://pandas.pydata.org/pandas-docs/stable/indexing.html#indexing-view-versus-copy\n",
      "  **kwargs)\n"
     ]
    },
    {
     "name": "stdout",
     "output_type": "stream",
     "text": [
      "           Total_Revenue  Stddev_Revenue  Median_Revenue  Average_Revenue  \\\n",
      "KeywordId                                                                   \n",
      "12183261               0               0               0                0   \n",
      "12183561               0               0               0                0   \n",
      "12183721               0               0               0                0   \n",
      "12184051               0               0               0                0   \n",
      "12184781               0               0               0                0   \n",
      "\n",
      "           Average_Shoppers  Median_Shoppers  Stddev_Shoppers  Total_Shoppers  \\\n",
      "KeywordId                                                                       \n",
      "12183261           0.018182                0         0.134840               1   \n",
      "12183561           0.004405                0         0.066372               1   \n",
      "12183721           0.000000                0         0.000000               0   \n",
      "12184051           0.047847                0         0.254965              10   \n",
      "12184781           0.151292                0         1.027036              41   \n",
      "\n",
      "           Recency  Span         ...          Lastweek_Impressions  \\\n",
      "KeywordId                        ...                                 \n",
      "12183261       127   341         ...                            10   \n",
      "12183561       122   358         ...                          1760   \n",
      "12183721        59   120         ...                             0   \n",
      "12184051       127   363         ...                           136   \n",
      "12184781       127   363         ...                           892   \n",
      "\n",
      "          Lastweek_Clicks Lastweek_Shoppers  Interpurchase_Clicks  \\\n",
      "KeywordId                                                           \n",
      "12183261                6                 0              5.412698   \n",
      "12183561              247                 0              0.137217   \n",
      "12183721                0                 0              2.307692   \n",
      "12184051               25                 0              0.493207   \n",
      "12184781              149                 0              0.109767   \n",
      "\n",
      "           Interpurchase_Impressions  Interpurcahse_Shoppers  \\\n",
      "KeywordId                                                      \n",
      "12183261                    2.991228              341.000000   \n",
      "12183561                    0.011811              358.000000   \n",
      "12183721                    0.506329                     inf   \n",
      "12184051                    0.043380               36.300000   \n",
      "12184781                    0.011414                8.853659   \n",
      "\n",
      "           Proportion_Clicks  Proportion_Impressions  Proportion_Shoppers  \\\n",
      "KeywordId                                                                   \n",
      "12183261            0.000004                0.000002             0.000003   \n",
      "12183561            0.000147                0.000545             0.000003   \n",
      "12183721            0.000003                0.000004             0.000000   \n",
      "12184051            0.000041                0.000151             0.000026   \n",
      "12184781            0.000186                0.000572             0.000107   \n",
      "\n",
      "           Proportion_Revenue  \n",
      "KeywordId                      \n",
      "12183261                  NaN  \n",
      "12183561                  NaN  \n",
      "12183721                  NaN  \n",
      "12184051                  NaN  \n",
      "12184781                  NaN  \n",
      "\n",
      "[5 rows x 35 columns]\n"
     ]
    }
   ],
   "source": [
    "# sort data by keyword id & date\n",
    "df.sort(['KeywordId', 'Date'], ascending = True, inplace = True)\n",
    "\n",
    "# remove ad group id and de-duplicate on keyword id & date\n",
    "df_deduplicated = df.drop_duplicates(subset = ['KeywordId', 'Date'], take_last = True)\n",
    "print df_deduplicated.count()\n",
    "\n",
    "# replace NA by 0\n",
    "df_deduplicated.fillna(0, inplace = True)\n",
    "\n",
    "# basic stats: group by keyword\n",
    "def span(x):\n",
    "        _maxdate = datetime.strptime(x.max(),'%Y-%m-%d')\n",
    "        _mindate = datetime.strptime(x.min(),'%Y-%m-%d')\n",
    "        _span = abs((_maxdate - _mindate).days)\n",
    "        return _span\n",
    "\n",
    "def recency(x):\n",
    "        _maxdate = datetime.strptime(x.max(),'%Y-%m-%d')\n",
    "        #_sysdate = dt.datetime.today()\n",
    "        _sysdate = datetime.strptime('2016-07-12','%Y-%m-%d')\n",
    "        _recency = abs((_sysdate - _maxdate).days)\n",
    "        return _recency\n",
    "\n",
    "def isinlastweek(d):\n",
    "        #_sysdate = dt.datetime.today()\n",
    "        _sysdate = datetime.strptime('2016-07-12','%Y-%m-%d')\n",
    "        return d.apply(lambda x: abs((_sysdate - (datetime.strptime(x,'%Y-%m-%d'))).days) <= 7)\n",
    "\n",
    "_byKeywordId = df_deduplicated.groupby(['KeywordId'])\n",
    "\n",
    "_basicstats = _byKeywordId.agg({'Clicks':{'Total_Clicks': np.sum, 'Average_Clicks': np.mean, 'Stddev_Clicks': np.std, 'Median_Clicks': np.median}, 'Impressions':{'Total_Impressions': np.sum, 'Average_Impressions': np.mean,'Stddev_Impressions': np.std, 'Median_Impressions': np.median}, 'Revenue':{'Total_Revenue': np.sum, 'Average_Revenue': np.mean, 'Stddev_Revenue': np.std, 'Median_Revenue': np.median}, 'ShopperCount':{'Total_Shoppers': np.sum, 'Average_Shoppers': np.mean, 'Stddev_Shoppers': np.std, 'Median_Shoppers': np.median}, 'Date':{'Occurrences': len, 'First_Occurrence': np.min, 'Last_Occurrence': np.max, 'Span': span, 'Recency': recency}, 'QualityScore':{'Average_QS': np.mean, 'Median_QS': np.median, 'Min_QS': np.min, 'Max_QS': np.max}})\n",
    "_basicstats.columns = _basicstats.columns.droplevel(0)\n",
    "\n",
    "_tempdf = _byKeywordId.apply(lambda x: x[isinlastweek(x['Date'])][['Impressions','Clicks','ShopperCount']].sum())\n",
    "_tempdf.columns = ['Lastweek_Impressions','Lastweek_Clicks','Lastweek_Shoppers']\n",
    "\n",
    "_basicstats = _basicstats.join(_tempdf)\n",
    "\n",
    "_basicstats['Interpurchase_Clicks'] = _basicstats['Span']/_basicstats['Total_Clicks']\n",
    "_basicstats['Interpurchase_Impressions'] = _basicstats['Span']/_basicstats['Total_Impressions']\n",
    "_basicstats['Interpurcahse_Shoppers'] = _basicstats['Span']/_basicstats['Total_Shoppers']\n",
    "\n",
    "_basicstats['Proportion_Clicks'] = _basicstats['Total_Clicks']/sum(_basicstats['Total_Clicks'])\n",
    "_basicstats['Proportion_Impressions'] = _basicstats['Total_Impressions']/sum(_basicstats['Total_Impressions'])\n",
    "_basicstats['Proportion_Shoppers'] = _basicstats['Total_Shoppers']/sum(_basicstats['Total_Shoppers'])\n",
    "_basicstats['Proportion_Revenue'] = _basicstats['Total_Revenue']/sum(_basicstats['Total_Revenue'])\n",
    "\n",
    "print _basicstats.head()\n",
    "\n",
    "#_basicstats.to_csv('adgroup_variables_15feb.csv', sep = ',')"
   ]
  },
  {
   "cell_type": "code",
   "execution_count": 8,
   "metadata": {
    "collapsed": false
   },
   "outputs": [
    {
     "data": {
      "text/plain": [
       "57033"
      ]
     },
     "execution_count": 8,
     "metadata": {},
     "output_type": "execute_result"
    }
   ],
   "source": [
    "len(set(_basicstats.reset_index()['KeywordId']))"
   ]
  },
  {
   "cell_type": "raw",
   "metadata": {
    "collapsed": false
   },
   "source": [
    "_basicstats['Last_Occurrence'].head()"
   ]
  },
  {
   "cell_type": "raw",
   "metadata": {
    "collapsed": false
   },
   "source": [
    "date_format = \"%Y-%m-%d\"\n",
    "a = datetime.strptime(\"2016-07-12\", date_format)\n",
    "b = datetime.strptime(\"2016-07-14\", date_format)\n",
    "delta = b - a\n",
    "print delta.days # that's it"
   ]
  },
  {
   "cell_type": "raw",
   "metadata": {
    "collapsed": false
   },
   "source": [
    "from datetime import date\n",
    "\n",
    "date_format = \"%Y-%m-%d\"\n",
    "_basicstats['Recency'] = _basicstats.apply(lambda x: (datetime.strptime(\"2016-07-12\",date_format) - datetime.strptime(x['Last_Occurrence'],date_format)).days, axis=1)"
   ]
  },
  {
   "cell_type": "raw",
   "metadata": {
    "collapsed": false
   },
   "source": [
    "_basicstats['Recency'].head()"
   ]
  },
  {
   "cell_type": "code",
   "execution_count": null,
   "metadata": {
    "collapsed": true
   },
   "outputs": [],
   "source": []
  },
  {
   "cell_type": "markdown",
   "metadata": {},
   "source": [
    "### Step 2: K-means clustering"
   ]
  },
  {
   "cell_type": "code",
   "execution_count": 9,
   "metadata": {
    "collapsed": true
   },
   "outputs": [],
   "source": [
    "# SET THE NUMBER OF CLUSTERS\n",
    "\n",
    "K = 10 #10 for IF #2 for RLSA #5 for BUS"
   ]
  },
  {
   "cell_type": "code",
   "execution_count": 10,
   "metadata": {
    "collapsed": false
   },
   "outputs": [
    {
     "data": {
      "image/png": "[encoded data removed]",
      "text/plain": [
       "<matplotlib.figure.Figure at 0x1deef10>"
      ]
     },
     "metadata": {},
     "output_type": "display_data"
    },
    {
     "data": {
      "image/png": "[encoded data removed]",
      "text/plain": [
       "<matplotlib.figure.Figure at 0x7fd1d403fe90>"
      ]
     },
     "metadata": {},
     "output_type": "display_data"
    }
   ],
   "source": [
    "# Trying Elbow Method on Iris Dataset\n",
    "import numpy as np\n",
    "from scipy.cluster.vq import kmeans,vq\n",
    "from scipy.spatial.distance import cdist\n",
    "import matplotlib.pyplot as plt\n",
    "\n",
    "# load the iris dataset\n",
    "fName = '/home/dsuser/rakhi/SEM/ClusteringProcess/iris_input.txt'\n",
    "fp = open(fName)\n",
    "X = np.loadtxt(fp,delimiter=\",\")\n",
    "fp.close()\n",
    "\n",
    "##### cluster data into K=1..10 clusters #####\n",
    "K = range(1,10)\n",
    "\n",
    "# scipy.cluster.vq.kmeans\n",
    "KM = [kmeans(X,k) for k in K]\n",
    "centroids = [cent for (cent,var) in KM]   # cluster centroids\n",
    "#avgWithinSS = [var for (cent,var) in KM] # mean within-cluster sum of squares\n",
    "\n",
    "# alternative: scipy.cluster.vq.vq\n",
    "#Z = [vq(X,cent) for cent in centroids]\n",
    "#avgWithinSS = [sum(dist)/X.shape[0] for (cIdx,dist) in Z]\n",
    "\n",
    "# alternative: scipy.spatial.distance.cdist\n",
    "D_k = [cdist(X, cent, 'euclidean') for cent in centroids]\n",
    "cIdx = [np.argmin(D,axis=1) for D in D_k]\n",
    "dist = [np.min(D,axis=1) for D in D_k]\n",
    "avgWithinSS = [sum(d)/X.shape[0] for d in dist]\n",
    "\n",
    "##### plot ###\n",
    "kIdx = 2\n",
    "\n",
    "# elbow curve\n",
    "fig = plt.figure()\n",
    "ax = fig.add_subplot(111)\n",
    "ax.plot(K, avgWithinSS, 'b*-')\n",
    "ax.plot(K[kIdx], avgWithinSS[kIdx], marker='o', markersize=12, \n",
    "    markeredgewidth=2, markeredgecolor='r', markerfacecolor='None')\n",
    "plt.grid(True)\n",
    "plt.xlabel('Number of clusters')\n",
    "plt.ylabel('Average within-cluster sum of squares')\n",
    "plt.title('Elbow for KMeans clustering')\n",
    "\n",
    "# scatter plot\n",
    "fig = plt.figure()\n",
    "ax = fig.add_subplot(111)\n",
    "#ax.scatter(X[:,2],X[:,1], s=30, c=cIdx[k])\n",
    "clr = ['b','g','r','c','m','y','k']\n",
    "for i in range(K[kIdx]):\n",
    "    ind = (cIdx[kIdx]==i)\n",
    "    ax.scatter(X[ind,2],X[ind,1], s=30, c=clr[i], label='Cluster %d'%i)\n",
    "plt.xlabel('Petal Length')\n",
    "plt.ylabel('Sepal Width')\n",
    "plt.title('Iris Dataset, KMeans clustering with K=%d' % K[kIdx])\n",
    "plt.legend()\n",
    "\n",
    "plt.show()"
   ]
  },
  {
   "cell_type": "raw",
   "metadata": {
    "collapsed": false
   },
   "source": [
    "\n",
    "avgWithinSS.index(min(avgWithinSS))\n",
    "a = avgWithinSS\n",
    "print a\n",
    "b = [s - t for s, t in zip(a, a[1:])]\n",
    "print b\n",
    "i = b.index(np.median(b))\n",
    "print np.median(b)\n",
    "print i\n",
    "print a[i+1]\n",
    "print a.index(a[i+1])"
   ]
  },
  {
   "cell_type": "raw",
   "metadata": {
    "collapsed": false
   },
   "source": [
    "centroids[kIdx]"
   ]
  },
  {
   "cell_type": "raw",
   "metadata": {
    "collapsed": false
   },
   "source": [
    "X = _basicstats.as_matrix(['Median_Shoppers','Recency','Span','Occurrences','Median_Impressions','Median_Clicks','Median_QS','Lastweek_Impressions',\n",
    "                     'Lastweek_Clicks','Lastweek_Shoppers']) \n",
    "\n",
    "##### cluster data into K=1..10 clusters #####\n",
    "K = range(1,11)\n",
    "\n",
    "# scipy.cluster.vq.kmeans\n",
    "KM = [kmeans(X,k) for k in K]\n",
    "centroids = [cent for (cent,var) in KM]   # cluster centroids\n",
    "#avgWithinSS = [var for (cent,var) in KM] # mean within-cluster sum of squares\n",
    "\n",
    "# alternative: scipy.cluster.vq.vq\n",
    "#Z = [vq(X,cent) for cent in centroids]\n",
    "#avgWithinSS = [sum(dist)/X.shape[0] for (cIdx,dist) in Z]\n",
    "\n",
    "# alternative: scipy.spatial.distance.cdist\n",
    "D_k = [cdist(X, cent, 'euclidean') for cent in centroids]\n",
    "cIdx = [np.argmin(D,axis=1) for D in D_k]\n",
    "dist = [np.min(D,axis=1) for D in D_k]\n",
    "avgWithinSS = [sum(d)/X.shape[0] for d in dist]\n",
    "\n",
    "##### plot ###\n",
    "#kIdx = 5\n",
    "# determine kIdx\n",
    "#kIdx = avgWithinSS.index(min(avgWithinSS))\n",
    "avgWithinSS_diff = [s - t for s, t in zip(avgWithinSS, avgWithinSS[1:])]\n",
    "avgWithinSS_diff_index = avgWithinSS_diff.index(np.median(avgWithinSS_diff))\n",
    "kIdx = avgWithinSS.index(avgWithinSS[avgWithinSS_diff_index+1])\n",
    "\n",
    "# elbow curve\n",
    "fig = plt.figure()\n",
    "ax = fig.add_subplot(111)\n",
    "ax.plot(K, avgWithinSS, 'b*-')\n",
    "ax.plot(K[kIdx], avgWithinSS[kIdx], marker='o', markersize=12, \n",
    "    markeredgewidth=2, markeredgecolor='r', markerfacecolor='None')\n",
    "plt.grid(True)\n",
    "plt.xlabel('Number of clusters')\n",
    "plt.ylabel('Average within-cluster sum of squares')\n",
    "plt.title('Elbow for KMeans clustering')\n",
    "\n",
    "# scatter plot\n",
    "from mpl_toolkits.mplot3d import Axes3D\n",
    "all_variables = ['Median_Shoppers','Recency','Span','Occurrences','Median_Impressions','Median_Clicks','Median_QS','Lastweek_Impressions','Lastweek_Clicks','Lastweek_Shoppers']\n",
    "x_variable = 2 #7 #3\n",
    "y_variable = 7 #8 #2\n",
    "z_variable = 1 #9 #1\n",
    "fig = plt.figure(figsize=(10, 8))\n",
    "ax = fig.add_subplot(111, projection='3d')\n",
    "\n",
    "clr = ['b','g','r','c','m','y','k']\n",
    "for i in range(K[kIdx]):\n",
    "    ind = (cIdx[kIdx]==i)\n",
    "    ax.scatter(X[ind,x_variable],X[ind,y_variable],X[ind,z_variable], s=30, c=clr[i], label='Cluster %d'%i, cmap='prism')\n",
    "#ax.scatter(xs, ys, zs, c=clr[i], cmap='prism')\n",
    "ax.set_xlabel(all_variables[x_variable])\n",
    "ax.set_ylabel(all_variables[y_variable])\n",
    "ax.set_zlabel(all_variables[z_variable])\n",
    "plt.title(\"KMeans clustering with K=%d\"%K[kIdx])\n",
    "plt.legend()\n",
    "plt.show()\n"
   ]
  },
  {
   "cell_type": "code",
   "execution_count": 59,
   "metadata": {
    "collapsed": false
   },
   "outputs": [
    {
     "name": "stdout",
     "output_type": "stream",
     "text": [
      "0 10492\n",
      "1 4716\n",
      "2 6796\n",
      "3 2\n",
      "4 10600\n",
      "5 18114\n",
      "6 6222\n",
      "7 91\n",
      "[{'Max_QS': 8.6341021730842549, 'Span': 12.14735036218071, 'Proportion_Clicks': 0.0011501368832004001, 'Interpurchase_Impressions': nan, 'Cluster_No': 0, 'Median_Impressions': 1.3277258863896302, 'Lastweek_Shoppers': 0.0, 'Average_Shoppers': 0.0, 'Proportion_Shoppers': 0.0, 'Stddev_Shoppers': nan, 'Proportion_Revenue': nan, 'Stddev_Clicks': nan, 'Median_Clicks': 1.0532310331681281, 'Total_Clicks': 1.95110560426992, 'Total_Shoppers': 0.0, 'Average_QS': 8.5468206055681737, 'Stddev_Impressions': nan, 'Proportion_Impressions': 0.0004989531229952455, 'Total_Impressions': 2.6438238658025162, 'Average_Clicks': 1.0680814487011732, 'Median_Shoppers': 0.0, 'Length': 10492, 'Average_Impressions': 1.3655384597366453, 'Interpurchase_Clicks': 4.2257729167100253, 'Lastweek_Clicks': 0.16412504765535646, 'Lastweek_Impressions': 0.21425848265345024, 'Interpurcahse_Shoppers': nan, 'Median_QS': 8.5548513152878378, 'Min_QS': 8.4446244757910787, 'Recency': 44.84435760579489, 'Occurrences': 1.8031833778116659}]\n",
      "[{'Max_QS': 8.6341021730842549, 'Span': 12.14735036218071, 'Proportion_Clicks': 0.0011501368832004001, 'Interpurchase_Impressions': nan, 'Cluster_No': 0, 'Median_Impressions': 1.3277258863896302, 'Lastweek_Shoppers': 0.0, 'Average_Shoppers': 0.0, 'Proportion_Shoppers': 0.0, 'Stddev_Shoppers': nan, 'Proportion_Revenue': nan, 'Stddev_Clicks': nan, 'Median_Clicks': 1.0532310331681281, 'Total_Clicks': 1.95110560426992, 'Total_Shoppers': 0.0, 'Average_QS': 8.5468206055681737, 'Stddev_Impressions': nan, 'Proportion_Impressions': 0.0004989531229952455, 'Total_Impressions': 2.6438238658025162, 'Average_Clicks': 1.0680814487011732, 'Median_Shoppers': 0.0, 'Length': 10492, 'Average_Impressions': 1.3655384597366453, 'Interpurchase_Clicks': 4.2257729167100253, 'Lastweek_Clicks': 0.16412504765535646, 'Lastweek_Impressions': 0.21425848265345024, 'Interpurcahse_Shoppers': nan, 'Median_QS': 8.5548513152878378, 'Min_QS': 8.4446244757910787, 'Recency': 44.84435760579489, 'Occurrences': 1.8031833778116659}, {'Max_QS': 8.3025869380831221, 'Span': 16.993638676844785, 'Proportion_Clicks': 0.0012828428241959226, 'Interpurchase_Impressions': nan, 'Cluster_No': 1, 'Median_Impressions': 1.6088846480067853, 'Lastweek_Shoppers': 0.0, 'Average_Shoppers': 0.10316639380431894, 'Proportion_Shoppers': 0.0035610280669713988, 'Stddev_Shoppers': nan, 'Proportion_Revenue': nan, 'Stddev_Clicks': nan, 'Median_Clicks': 1.0884223918575064, 'Total_Clicks': 4.8416030534351142, 'Total_Shoppers': 0.28859202714164545, 'Average_QS': 8.2151885943314049, 'Stddev_Impressions': nan, 'Proportion_Impressions': 0.0013306915565112394, 'Total_Impressions': 15.686810856658186, 'Average_Clicks': 1.1133789393758542, 'Median_Shoppers': 0.091072943172179815, 'Length': 4716, 'Average_Impressions': 1.6711728875052343, 'Interpurchase_Clicks': 5.2734973718948552, 'Lastweek_Clicks': 0.0, 'Lastweek_Impressions': 0.0, 'Interpurcahse_Shoppers': nan, 'Median_QS': 8.2211620016963529, 'Min_QS': 8.1172603901611531, 'Recency': 153.82018659881254, 'Occurrences': 2.0665818490245971}]\n",
      "[{'Max_QS': 8.6341021730842549, 'Span': 12.14735036218071, 'Proportion_Clicks': 0.0011501368832004001, 'Interpurchase_Impressions': nan, 'Cluster_No': 0, 'Median_Impressions': 1.3277258863896302, 'Lastweek_Shoppers': 0.0, 'Average_Shoppers': 0.0, 'Proportion_Shoppers': 0.0, 'Stddev_Shoppers': nan, 'Proportion_Revenue': nan, 'Stddev_Clicks': nan, 'Median_Clicks': 1.0532310331681281, 'Total_Clicks': 1.95110560426992, 'Total_Shoppers': 0.0, 'Average_QS': 8.5468206055681737, 'Stddev_Impressions': nan, 'Proportion_Impressions': 0.0004989531229952455, 'Total_Impressions': 2.6438238658025162, 'Average_Clicks': 1.0680814487011732, 'Median_Shoppers': 0.0, 'Length': 10492, 'Average_Impressions': 1.3655384597366453, 'Interpurchase_Clicks': 4.2257729167100253, 'Lastweek_Clicks': 0.16412504765535646, 'Lastweek_Impressions': 0.21425848265345024, 'Interpurcahse_Shoppers': nan, 'Median_QS': 8.5548513152878378, 'Min_QS': 8.4446244757910787, 'Recency': 44.84435760579489, 'Occurrences': 1.8031833778116659}, {'Max_QS': 8.3025869380831221, 'Span': 16.993638676844785, 'Proportion_Clicks': 0.0012828428241959226, 'Interpurchase_Impressions': nan, 'Cluster_No': 1, 'Median_Impressions': 1.6088846480067853, 'Lastweek_Shoppers': 0.0, 'Average_Shoppers': 0.10316639380431894, 'Proportion_Shoppers': 0.0035610280669713988, 'Stddev_Shoppers': nan, 'Proportion_Revenue': nan, 'Stddev_Clicks': nan, 'Median_Clicks': 1.0884223918575064, 'Total_Clicks': 4.8416030534351142, 'Total_Shoppers': 0.28859202714164545, 'Average_QS': 8.2151885943314049, 'Stddev_Impressions': nan, 'Proportion_Impressions': 0.0013306915565112394, 'Total_Impressions': 15.686810856658186, 'Average_Clicks': 1.1133789393758542, 'Median_Shoppers': 0.091072943172179815, 'Length': 4716, 'Average_Impressions': 1.6711728875052343, 'Interpurchase_Clicks': 5.2734973718948552, 'Lastweek_Clicks': 0.0, 'Lastweek_Impressions': 0.0, 'Interpurcahse_Shoppers': nan, 'Median_QS': 8.2211620016963529, 'Min_QS': 8.1172603901611531, 'Recency': 153.82018659881254, 'Occurrences': 2.0665818490245971}, {'Max_QS': 9.3140082401412592, 'Span': 164.78281341965862, 'Proportion_Clicks': 0.0042968183554003316, 'Interpurchase_Impressions': 21.574655761555874, 'Cluster_No': 2, 'Median_Impressions': 1.6481018246027075, 'Lastweek_Shoppers': 0.0, 'Average_Shoppers': 0.070399031073849649, 'Proportion_Shoppers': 0.01107555606722258, 'Stddev_Shoppers': 0.15325942057747755, 'Proportion_Revenue': nan, 'Stddev_Clicks': 0.2324912860740766, 'Median_Clicks': 1.0134638022366098, 'Total_Clicks': 11.253384343731607, 'Total_Shoppers': 0.62286639199529137, 'Average_QS': 8.9153013343439618, 'Stddev_Impressions': 1.0302479590616838, 'Proportion_Impressions': 0.0033479090817077066, 'Total_Impressions': 27.387433784579166, 'Average_Clicks': 1.1097116878984672, 'Median_Shoppers': 0.013095938787522072, 'Length': 6796, 'Average_Impressions': 1.9415947153568105, 'Interpurchase_Clicks': 27.11289696669051, 'Lastweek_Clicks': 0.65509123013537374, 'Lastweek_Impressions': 1.2302825191288993, 'Interpurcahse_Shoppers': inf, 'Median_QS': 8.9792525014714535, 'Min_QS': 8.2670688640376699, 'Recency': 100.56238964096528, 'Occurrences': 9.4749852854620364}]\n",
      "[{'Max_QS': 8.6341021730842549, 'Span': 12.14735036218071, 'Proportion_Clicks': 0.0011501368832004001, 'Interpurchase_Impressions': nan, 'Cluster_No': 0, 'Median_Impressions': 1.3277258863896302, 'Lastweek_Shoppers': 0.0, 'Average_Shoppers': 0.0, 'Proportion_Shoppers': 0.0, 'Stddev_Shoppers': nan, 'Proportion_Revenue': nan, 'Stddev_Clicks': nan, 'Median_Clicks': 1.0532310331681281, 'Total_Clicks': 1.95110560426992, 'Total_Shoppers': 0.0, 'Average_QS': 8.5468206055681737, 'Stddev_Impressions': nan, 'Proportion_Impressions': 0.0004989531229952455, 'Total_Impressions': 2.6438238658025162, 'Average_Clicks': 1.0680814487011732, 'Median_Shoppers': 0.0, 'Length': 10492, 'Average_Impressions': 1.3655384597366453, 'Interpurchase_Clicks': 4.2257729167100253, 'Lastweek_Clicks': 0.16412504765535646, 'Lastweek_Impressions': 0.21425848265345024, 'Interpurcahse_Shoppers': nan, 'Median_QS': 8.5548513152878378, 'Min_QS': 8.4446244757910787, 'Recency': 44.84435760579489, 'Occurrences': 1.8031833778116659}, {'Max_QS': 8.3025869380831221, 'Span': 16.993638676844785, 'Proportion_Clicks': 0.0012828428241959226, 'Interpurchase_Impressions': nan, 'Cluster_No': 1, 'Median_Impressions': 1.6088846480067853, 'Lastweek_Shoppers': 0.0, 'Average_Shoppers': 0.10316639380431894, 'Proportion_Shoppers': 0.0035610280669713988, 'Stddev_Shoppers': nan, 'Proportion_Revenue': nan, 'Stddev_Clicks': nan, 'Median_Clicks': 1.0884223918575064, 'Total_Clicks': 4.8416030534351142, 'Total_Shoppers': 0.28859202714164545, 'Average_QS': 8.2151885943314049, 'Stddev_Impressions': nan, 'Proportion_Impressions': 0.0013306915565112394, 'Total_Impressions': 15.686810856658186, 'Average_Clicks': 1.1133789393758542, 'Median_Shoppers': 0.091072943172179815, 'Length': 4716, 'Average_Impressions': 1.6711728875052343, 'Interpurchase_Clicks': 5.2734973718948552, 'Lastweek_Clicks': 0.0, 'Lastweek_Impressions': 0.0, 'Interpurcahse_Shoppers': nan, 'Median_QS': 8.2211620016963529, 'Min_QS': 8.1172603901611531, 'Recency': 153.82018659881254, 'Occurrences': 2.0665818490245971}, {'Max_QS': 9.3140082401412592, 'Span': 164.78281341965862, 'Proportion_Clicks': 0.0042968183554003316, 'Interpurchase_Impressions': 21.574655761555874, 'Cluster_No': 2, 'Median_Impressions': 1.6481018246027075, 'Lastweek_Shoppers': 0.0, 'Average_Shoppers': 0.070399031073849649, 'Proportion_Shoppers': 0.01107555606722258, 'Stddev_Shoppers': 0.15325942057747755, 'Proportion_Revenue': nan, 'Stddev_Clicks': 0.2324912860740766, 'Median_Clicks': 1.0134638022366098, 'Total_Clicks': 11.253384343731607, 'Total_Shoppers': 0.62286639199529137, 'Average_QS': 8.9153013343439618, 'Stddev_Impressions': 1.0302479590616838, 'Proportion_Impressions': 0.0033479090817077066, 'Total_Impressions': 27.387433784579166, 'Average_Clicks': 1.1097116878984672, 'Median_Shoppers': 0.013095938787522072, 'Length': 6796, 'Average_Impressions': 1.9415947153568105, 'Interpurchase_Clicks': 27.11289696669051, 'Lastweek_Clicks': 0.65509123013537374, 'Lastweek_Impressions': 1.2302825191288993, 'Interpurcahse_Shoppers': inf, 'Median_QS': 8.9792525014714535, 'Min_QS': 8.2670688640376699, 'Recency': 100.56238964096528, 'Occurrences': 9.4749852854620364}, {'Max_QS': 10.0, 'Span': 363.0, 'Proportion_Clicks': 0.72510335135313708, 'Interpurchase_Impressions': 2.7287141623088438e-05, 'Cluster_No': 3, 'Median_Impressions': 45042.5, 'Lastweek_Shoppers': 0.0, 'Average_Shoppers': 344.97619047619048, 'Proportion_Shoppers': 0.64447281870677897, 'Stddev_Shoppers': 1712.9089734362037, 'Proportion_Revenue': nan, 'Stddev_Clicks': 4075.3350555733346, 'Median_Clicks': 18676.0, 'Total_Clicks': 6452967.0, 'Total_Shoppers': 123156.5, 'Average_QS': 10.0, 'Stddev_Impressions': 9864.9287556315194, 'Proportion_Impressions': 0.5604563668201048, 'Total_Impressions': 15579118.0, 'Average_Clicks': 18075.537815126052, 'Median_Shoppers': 0.0, 'Length': 2, 'Average_Impressions': 43638.985994397757, 'Interpurchase_Clicks': 6.7963862158802548e-05, 'Lastweek_Clicks': 247284.5, 'Lastweek_Impressions': 591440.5, 'Interpurcahse_Shoppers': 0.0034787603735170316, 'Median_QS': 10.0, 'Min_QS': 10.0, 'Recency': 127.0, 'Occurrences': 357.0}]\n",
      "[{'Max_QS': 8.6341021730842549, 'Span': 12.14735036218071, 'Proportion_Clicks': 0.0011501368832004001, 'Interpurchase_Impressions': nan, 'Cluster_No': 0, 'Median_Impressions': 1.3277258863896302, 'Lastweek_Shoppers': 0.0, 'Average_Shoppers': 0.0, 'Proportion_Shoppers': 0.0, 'Stddev_Shoppers': nan, 'Proportion_Revenue': nan, 'Stddev_Clicks': nan, 'Median_Clicks': 1.0532310331681281, 'Total_Clicks': 1.95110560426992, 'Total_Shoppers': 0.0, 'Average_QS': 8.5468206055681737, 'Stddev_Impressions': nan, 'Proportion_Impressions': 0.0004989531229952455, 'Total_Impressions': 2.6438238658025162, 'Average_Clicks': 1.0680814487011732, 'Median_Shoppers': 0.0, 'Length': 10492, 'Average_Impressions': 1.3655384597366453, 'Interpurchase_Clicks': 4.2257729167100253, 'Lastweek_Clicks': 0.16412504765535646, 'Lastweek_Impressions': 0.21425848265345024, 'Interpurcahse_Shoppers': nan, 'Median_QS': 8.5548513152878378, 'Min_QS': 8.4446244757910787, 'Recency': 44.84435760579489, 'Occurrences': 1.8031833778116659}, {'Max_QS': 8.3025869380831221, 'Span': 16.993638676844785, 'Proportion_Clicks': 0.0012828428241959226, 'Interpurchase_Impressions': nan, 'Cluster_No': 1, 'Median_Impressions': 1.6088846480067853, 'Lastweek_Shoppers': 0.0, 'Average_Shoppers': 0.10316639380431894, 'Proportion_Shoppers': 0.0035610280669713988, 'Stddev_Shoppers': nan, 'Proportion_Revenue': nan, 'Stddev_Clicks': nan, 'Median_Clicks': 1.0884223918575064, 'Total_Clicks': 4.8416030534351142, 'Total_Shoppers': 0.28859202714164545, 'Average_QS': 8.2151885943314049, 'Stddev_Impressions': nan, 'Proportion_Impressions': 0.0013306915565112394, 'Total_Impressions': 15.686810856658186, 'Average_Clicks': 1.1133789393758542, 'Median_Shoppers': 0.091072943172179815, 'Length': 4716, 'Average_Impressions': 1.6711728875052343, 'Interpurchase_Clicks': 5.2734973718948552, 'Lastweek_Clicks': 0.0, 'Lastweek_Impressions': 0.0, 'Interpurcahse_Shoppers': nan, 'Median_QS': 8.2211620016963529, 'Min_QS': 8.1172603901611531, 'Recency': 153.82018659881254, 'Occurrences': 2.0665818490245971}, {'Max_QS': 9.3140082401412592, 'Span': 164.78281341965862, 'Proportion_Clicks': 0.0042968183554003316, 'Interpurchase_Impressions': 21.574655761555874, 'Cluster_No': 2, 'Median_Impressions': 1.6481018246027075, 'Lastweek_Shoppers': 0.0, 'Average_Shoppers': 0.070399031073849649, 'Proportion_Shoppers': 0.01107555606722258, 'Stddev_Shoppers': 0.15325942057747755, 'Proportion_Revenue': nan, 'Stddev_Clicks': 0.2324912860740766, 'Median_Clicks': 1.0134638022366098, 'Total_Clicks': 11.253384343731607, 'Total_Shoppers': 0.62286639199529137, 'Average_QS': 8.9153013343439618, 'Stddev_Impressions': 1.0302479590616838, 'Proportion_Impressions': 0.0033479090817077066, 'Total_Impressions': 27.387433784579166, 'Average_Clicks': 1.1097116878984672, 'Median_Shoppers': 0.013095938787522072, 'Length': 6796, 'Average_Impressions': 1.9415947153568105, 'Interpurchase_Clicks': 27.11289696669051, 'Lastweek_Clicks': 0.65509123013537374, 'Lastweek_Impressions': 1.2302825191288993, 'Interpurcahse_Shoppers': inf, 'Median_QS': 8.9792525014714535, 'Min_QS': 8.2670688640376699, 'Recency': 100.56238964096528, 'Occurrences': 9.4749852854620364}, {'Max_QS': 10.0, 'Span': 363.0, 'Proportion_Clicks': 0.72510335135313708, 'Interpurchase_Impressions': 2.7287141623088438e-05, 'Cluster_No': 3, 'Median_Impressions': 45042.5, 'Lastweek_Shoppers': 0.0, 'Average_Shoppers': 344.97619047619048, 'Proportion_Shoppers': 0.64447281870677897, 'Stddev_Shoppers': 1712.9089734362037, 'Proportion_Revenue': nan, 'Stddev_Clicks': 4075.3350555733346, 'Median_Clicks': 18676.0, 'Total_Clicks': 6452967.0, 'Total_Shoppers': 123156.5, 'Average_QS': 10.0, 'Stddev_Impressions': 9864.9287556315194, 'Proportion_Impressions': 0.5604563668201048, 'Total_Impressions': 15579118.0, 'Average_Clicks': 18075.537815126052, 'Median_Shoppers': 0.0, 'Length': 2, 'Average_Impressions': 43638.985994397757, 'Interpurchase_Clicks': 6.7963862158802548e-05, 'Lastweek_Clicks': 247284.5, 'Lastweek_Impressions': 591440.5, 'Interpurcahse_Shoppers': 0.0034787603735170316, 'Median_QS': 10.0, 'Min_QS': 10.0, 'Recency': 127.0, 'Occurrences': 357.0}, {'Max_QS': 9.3140566037735848, 'Span': 253.68396226415095, 'Proportion_Clicks': 0.0090645124480925668, 'Interpurchase_Impressions': 23.79281306577311, 'Cluster_No': 4, 'Median_Impressions': 1.6688679245283018, 'Lastweek_Shoppers': 0.0, 'Average_Shoppers': 0.013412779575959478, 'Proportion_Shoppers': 0.0047436766241139945, 'Stddev_Shoppers': 0.034952694324356944, 'Proportion_Revenue': nan, 'Stddev_Clicks': 0.26053088222606741, 'Median_Clicks': 1.0095283018867924, 'Total_Clicks': 15.220471698113208, 'Total_Shoppers': 0.1710377358490566, 'Average_QS': 8.8018049276798731, 'Stddev_Impressions': 1.2073489132754782, 'Proportion_Impressions': 0.0068934639659126822, 'Total_Impressions': 36.154528301886792, 'Average_Clicks': 1.1159030217909303, 'Median_Shoppers': 0.0010377358490566038, 'Length': 10600, 'Average_Impressions': 2.0447054335794697, 'Interpurchase_Clicks': 31.30381766495789, 'Lastweek_Clicks': 0.72575471698113203, 'Lastweek_Impressions': 1.3108490566037736, 'Interpurcahse_Shoppers': inf, 'Median_QS': 8.8565094339622643, 'Min_QS': 7.9842452830188675, 'Recency': 63.322075471698113, 'Occurrences': 12.840094339622642}]\n",
      "[{'Max_QS': 8.6341021730842549, 'Span': 12.14735036218071, 'Proportion_Clicks': 0.0011501368832004001, 'Interpurchase_Impressions': nan, 'Cluster_No': 0, 'Median_Impressions': 1.3277258863896302, 'Lastweek_Shoppers': 0.0, 'Average_Shoppers': 0.0, 'Proportion_Shoppers': 0.0, 'Stddev_Shoppers': nan, 'Proportion_Revenue': nan, 'Stddev_Clicks': nan, 'Median_Clicks': 1.0532310331681281, 'Total_Clicks': 1.95110560426992, 'Total_Shoppers': 0.0, 'Average_QS': 8.5468206055681737, 'Stddev_Impressions': nan, 'Proportion_Impressions': 0.0004989531229952455, 'Total_Impressions': 2.6438238658025162, 'Average_Clicks': 1.0680814487011732, 'Median_Shoppers': 0.0, 'Length': 10492, 'Average_Impressions': 1.3655384597366453, 'Interpurchase_Clicks': 4.2257729167100253, 'Lastweek_Clicks': 0.16412504765535646, 'Lastweek_Impressions': 0.21425848265345024, 'Interpurcahse_Shoppers': nan, 'Median_QS': 8.5548513152878378, 'Min_QS': 8.4446244757910787, 'Recency': 44.84435760579489, 'Occurrences': 1.8031833778116659}, {'Max_QS': 8.3025869380831221, 'Span': 16.993638676844785, 'Proportion_Clicks': 0.0012828428241959226, 'Interpurchase_Impressions': nan, 'Cluster_No': 1, 'Median_Impressions': 1.6088846480067853, 'Lastweek_Shoppers': 0.0, 'Average_Shoppers': 0.10316639380431894, 'Proportion_Shoppers': 0.0035610280669713988, 'Stddev_Shoppers': nan, 'Proportion_Revenue': nan, 'Stddev_Clicks': nan, 'Median_Clicks': 1.0884223918575064, 'Total_Clicks': 4.8416030534351142, 'Total_Shoppers': 0.28859202714164545, 'Average_QS': 8.2151885943314049, 'Stddev_Impressions': nan, 'Proportion_Impressions': 0.0013306915565112394, 'Total_Impressions': 15.686810856658186, 'Average_Clicks': 1.1133789393758542, 'Median_Shoppers': 0.091072943172179815, 'Length': 4716, 'Average_Impressions': 1.6711728875052343, 'Interpurchase_Clicks': 5.2734973718948552, 'Lastweek_Clicks': 0.0, 'Lastweek_Impressions': 0.0, 'Interpurcahse_Shoppers': nan, 'Median_QS': 8.2211620016963529, 'Min_QS': 8.1172603901611531, 'Recency': 153.82018659881254, 'Occurrences': 2.0665818490245971}, {'Max_QS': 9.3140082401412592, 'Span': 164.78281341965862, 'Proportion_Clicks': 0.0042968183554003316, 'Interpurchase_Impressions': 21.574655761555874, 'Cluster_No': 2, 'Median_Impressions': 1.6481018246027075, 'Lastweek_Shoppers': 0.0, 'Average_Shoppers': 0.070399031073849649, 'Proportion_Shoppers': 0.01107555606722258, 'Stddev_Shoppers': 0.15325942057747755, 'Proportion_Revenue': nan, 'Stddev_Clicks': 0.2324912860740766, 'Median_Clicks': 1.0134638022366098, 'Total_Clicks': 11.253384343731607, 'Total_Shoppers': 0.62286639199529137, 'Average_QS': 8.9153013343439618, 'Stddev_Impressions': 1.0302479590616838, 'Proportion_Impressions': 0.0033479090817077066, 'Total_Impressions': 27.387433784579166, 'Average_Clicks': 1.1097116878984672, 'Median_Shoppers': 0.013095938787522072, 'Length': 6796, 'Average_Impressions': 1.9415947153568105, 'Interpurchase_Clicks': 27.11289696669051, 'Lastweek_Clicks': 0.65509123013537374, 'Lastweek_Impressions': 1.2302825191288993, 'Interpurcahse_Shoppers': inf, 'Median_QS': 8.9792525014714535, 'Min_QS': 8.2670688640376699, 'Recency': 100.56238964096528, 'Occurrences': 9.4749852854620364}, {'Max_QS': 10.0, 'Span': 363.0, 'Proportion_Clicks': 0.72510335135313708, 'Interpurchase_Impressions': 2.7287141623088438e-05, 'Cluster_No': 3, 'Median_Impressions': 45042.5, 'Lastweek_Shoppers': 0.0, 'Average_Shoppers': 344.97619047619048, 'Proportion_Shoppers': 0.64447281870677897, 'Stddev_Shoppers': 1712.9089734362037, 'Proportion_Revenue': nan, 'Stddev_Clicks': 4075.3350555733346, 'Median_Clicks': 18676.0, 'Total_Clicks': 6452967.0, 'Total_Shoppers': 123156.5, 'Average_QS': 10.0, 'Stddev_Impressions': 9864.9287556315194, 'Proportion_Impressions': 0.5604563668201048, 'Total_Impressions': 15579118.0, 'Average_Clicks': 18075.537815126052, 'Median_Shoppers': 0.0, 'Length': 2, 'Average_Impressions': 43638.985994397757, 'Interpurchase_Clicks': 6.7963862158802548e-05, 'Lastweek_Clicks': 247284.5, 'Lastweek_Impressions': 591440.5, 'Interpurcahse_Shoppers': 0.0034787603735170316, 'Median_QS': 10.0, 'Min_QS': 10.0, 'Recency': 127.0, 'Occurrences': 357.0}, {'Max_QS': 9.3140566037735848, 'Span': 253.68396226415095, 'Proportion_Clicks': 0.0090645124480925668, 'Interpurchase_Impressions': 23.79281306577311, 'Cluster_No': 4, 'Median_Impressions': 1.6688679245283018, 'Lastweek_Shoppers': 0.0, 'Average_Shoppers': 0.013412779575959478, 'Proportion_Shoppers': 0.0047436766241139945, 'Stddev_Shoppers': 0.034952694324356944, 'Proportion_Revenue': nan, 'Stddev_Clicks': 0.26053088222606741, 'Median_Clicks': 1.0095283018867924, 'Total_Clicks': 15.220471698113208, 'Total_Shoppers': 0.1710377358490566, 'Average_QS': 8.8018049276798731, 'Stddev_Impressions': 1.2073489132754782, 'Proportion_Impressions': 0.0068934639659126822, 'Total_Impressions': 36.154528301886792, 'Average_Clicks': 1.1159030217909303, 'Median_Shoppers': 0.0010377358490566038, 'Length': 10600, 'Average_Impressions': 2.0447054335794697, 'Interpurchase_Clicks': 31.30381766495789, 'Lastweek_Clicks': 0.72575471698113203, 'Lastweek_Impressions': 1.3108490566037736, 'Interpurcahse_Shoppers': inf, 'Median_QS': 8.8565094339622643, 'Min_QS': 7.9842452830188675, 'Recency': 63.322075471698113, 'Occurrences': 12.840094339622642}, {'Max_QS': 9.6260351109638957, 'Span': 337.97449486584964, 'Proportion_Clicks': 0.14135328934035876, 'Interpurchase_Impressions': 9.3390670643907665, 'Cluster_No': 5, 'Median_Impressions': 4.710113724191233, 'Lastweek_Shoppers': 0.0, 'Average_Shoppers': 0.061064236972440976, 'Proportion_Shoppers': 0.22806540151180166, 'Stddev_Shoppers': 0.23144089232243584, 'Proportion_Revenue': nan, 'Stddev_Clicks': 0.74927829088372189, 'Median_Clicks': 1.1902947996025175, 'Total_Clicks': 138.89323175444409, 'Total_Shoppers': 4.8120238489566081, 'Average_QS': 9.1185508248756637, 'Stddev_Impressions': 3.7676973299825613, 'Proportion_Impressions': 0.24038120313590572, 'Total_Impressions': 737.76355305288723, 'Average_Clicks': 1.4735334602659398, 'Median_Shoppers': 0.00096610356630230762, 'Length': 18114, 'Average_Impressions': 5.5572621872537207, 'Interpurchase_Clicks': 13.78393477909639, 'Lastweek_Clicks': 6.1350336756100257, 'Lastweek_Impressions': 30.669316550734237, 'Interpurcahse_Shoppers': inf, 'Median_QS': 9.1922270067351217, 'Min_QS': 7.8713150049685323, 'Recency': 114.02368333885393, 'Occurrences': 57.769515292039308}]\n",
      "[{'Max_QS': 8.6341021730842549, 'Span': 12.14735036218071, 'Proportion_Clicks': 0.0011501368832004001, 'Interpurchase_Impressions': nan, 'Cluster_No': 0, 'Median_Impressions': 1.3277258863896302, 'Lastweek_Shoppers': 0.0, 'Average_Shoppers': 0.0, 'Proportion_Shoppers': 0.0, 'Stddev_Shoppers': nan, 'Proportion_Revenue': nan, 'Stddev_Clicks': nan, 'Median_Clicks': 1.0532310331681281, 'Total_Clicks': 1.95110560426992, 'Total_Shoppers': 0.0, 'Average_QS': 8.5468206055681737, 'Stddev_Impressions': nan, 'Proportion_Impressions': 0.0004989531229952455, 'Total_Impressions': 2.6438238658025162, 'Average_Clicks': 1.0680814487011732, 'Median_Shoppers': 0.0, 'Length': 10492, 'Average_Impressions': 1.3655384597366453, 'Interpurchase_Clicks': 4.2257729167100253, 'Lastweek_Clicks': 0.16412504765535646, 'Lastweek_Impressions': 0.21425848265345024, 'Interpurcahse_Shoppers': nan, 'Median_QS': 8.5548513152878378, 'Min_QS': 8.4446244757910787, 'Recency': 44.84435760579489, 'Occurrences': 1.8031833778116659}, {'Max_QS': 8.3025869380831221, 'Span': 16.993638676844785, 'Proportion_Clicks': 0.0012828428241959226, 'Interpurchase_Impressions': nan, 'Cluster_No': 1, 'Median_Impressions': 1.6088846480067853, 'Lastweek_Shoppers': 0.0, 'Average_Shoppers': 0.10316639380431894, 'Proportion_Shoppers': 0.0035610280669713988, 'Stddev_Shoppers': nan, 'Proportion_Revenue': nan, 'Stddev_Clicks': nan, 'Median_Clicks': 1.0884223918575064, 'Total_Clicks': 4.8416030534351142, 'Total_Shoppers': 0.28859202714164545, 'Average_QS': 8.2151885943314049, 'Stddev_Impressions': nan, 'Proportion_Impressions': 0.0013306915565112394, 'Total_Impressions': 15.686810856658186, 'Average_Clicks': 1.1133789393758542, 'Median_Shoppers': 0.091072943172179815, 'Length': 4716, 'Average_Impressions': 1.6711728875052343, 'Interpurchase_Clicks': 5.2734973718948552, 'Lastweek_Clicks': 0.0, 'Lastweek_Impressions': 0.0, 'Interpurcahse_Shoppers': nan, 'Median_QS': 8.2211620016963529, 'Min_QS': 8.1172603901611531, 'Recency': 153.82018659881254, 'Occurrences': 2.0665818490245971}, {'Max_QS': 9.3140082401412592, 'Span': 164.78281341965862, 'Proportion_Clicks': 0.0042968183554003316, 'Interpurchase_Impressions': 21.574655761555874, 'Cluster_No': 2, 'Median_Impressions': 1.6481018246027075, 'Lastweek_Shoppers': 0.0, 'Average_Shoppers': 0.070399031073849649, 'Proportion_Shoppers': 0.01107555606722258, 'Stddev_Shoppers': 0.15325942057747755, 'Proportion_Revenue': nan, 'Stddev_Clicks': 0.2324912860740766, 'Median_Clicks': 1.0134638022366098, 'Total_Clicks': 11.253384343731607, 'Total_Shoppers': 0.62286639199529137, 'Average_QS': 8.9153013343439618, 'Stddev_Impressions': 1.0302479590616838, 'Proportion_Impressions': 0.0033479090817077066, 'Total_Impressions': 27.387433784579166, 'Average_Clicks': 1.1097116878984672, 'Median_Shoppers': 0.013095938787522072, 'Length': 6796, 'Average_Impressions': 1.9415947153568105, 'Interpurchase_Clicks': 27.11289696669051, 'Lastweek_Clicks': 0.65509123013537374, 'Lastweek_Impressions': 1.2302825191288993, 'Interpurcahse_Shoppers': inf, 'Median_QS': 8.9792525014714535, 'Min_QS': 8.2670688640376699, 'Recency': 100.56238964096528, 'Occurrences': 9.4749852854620364}, {'Max_QS': 10.0, 'Span': 363.0, 'Proportion_Clicks': 0.72510335135313708, 'Interpurchase_Impressions': 2.7287141623088438e-05, 'Cluster_No': 3, 'Median_Impressions': 45042.5, 'Lastweek_Shoppers': 0.0, 'Average_Shoppers': 344.97619047619048, 'Proportion_Shoppers': 0.64447281870677897, 'Stddev_Shoppers': 1712.9089734362037, 'Proportion_Revenue': nan, 'Stddev_Clicks': 4075.3350555733346, 'Median_Clicks': 18676.0, 'Total_Clicks': 6452967.0, 'Total_Shoppers': 123156.5, 'Average_QS': 10.0, 'Stddev_Impressions': 9864.9287556315194, 'Proportion_Impressions': 0.5604563668201048, 'Total_Impressions': 15579118.0, 'Average_Clicks': 18075.537815126052, 'Median_Shoppers': 0.0, 'Length': 2, 'Average_Impressions': 43638.985994397757, 'Interpurchase_Clicks': 6.7963862158802548e-05, 'Lastweek_Clicks': 247284.5, 'Lastweek_Impressions': 591440.5, 'Interpurcahse_Shoppers': 0.0034787603735170316, 'Median_QS': 10.0, 'Min_QS': 10.0, 'Recency': 127.0, 'Occurrences': 357.0}, {'Max_QS': 9.3140566037735848, 'Span': 253.68396226415095, 'Proportion_Clicks': 0.0090645124480925668, 'Interpurchase_Impressions': 23.79281306577311, 'Cluster_No': 4, 'Median_Impressions': 1.6688679245283018, 'Lastweek_Shoppers': 0.0, 'Average_Shoppers': 0.013412779575959478, 'Proportion_Shoppers': 0.0047436766241139945, 'Stddev_Shoppers': 0.034952694324356944, 'Proportion_Revenue': nan, 'Stddev_Clicks': 0.26053088222606741, 'Median_Clicks': 1.0095283018867924, 'Total_Clicks': 15.220471698113208, 'Total_Shoppers': 0.1710377358490566, 'Average_QS': 8.8018049276798731, 'Stddev_Impressions': 1.2073489132754782, 'Proportion_Impressions': 0.0068934639659126822, 'Total_Impressions': 36.154528301886792, 'Average_Clicks': 1.1159030217909303, 'Median_Shoppers': 0.0010377358490566038, 'Length': 10600, 'Average_Impressions': 2.0447054335794697, 'Interpurchase_Clicks': 31.30381766495789, 'Lastweek_Clicks': 0.72575471698113203, 'Lastweek_Impressions': 1.3108490566037736, 'Interpurcahse_Shoppers': inf, 'Median_QS': 8.8565094339622643, 'Min_QS': 7.9842452830188675, 'Recency': 63.322075471698113, 'Occurrences': 12.840094339622642}, {'Max_QS': 9.6260351109638957, 'Span': 337.97449486584964, 'Proportion_Clicks': 0.14135328934035876, 'Interpurchase_Impressions': 9.3390670643907665, 'Cluster_No': 5, 'Median_Impressions': 4.710113724191233, 'Lastweek_Shoppers': 0.0, 'Average_Shoppers': 0.061064236972440976, 'Proportion_Shoppers': 0.22806540151180166, 'Stddev_Shoppers': 0.23144089232243584, 'Proportion_Revenue': nan, 'Stddev_Clicks': 0.74927829088372189, 'Median_Clicks': 1.1902947996025175, 'Total_Clicks': 138.89323175444409, 'Total_Shoppers': 4.8120238489566081, 'Average_QS': 9.1185508248756637, 'Stddev_Impressions': 3.7676973299825613, 'Proportion_Impressions': 0.24038120313590572, 'Total_Impressions': 737.76355305288723, 'Average_Clicks': 1.4735334602659398, 'Median_Shoppers': 0.00096610356630230762, 'Length': 18114, 'Average_Impressions': 5.5572621872537207, 'Interpurchase_Clicks': 13.78393477909639, 'Lastweek_Clicks': 6.1350336756100257, 'Lastweek_Impressions': 30.669316550734237, 'Interpurcahse_Shoppers': inf, 'Median_QS': 9.1922270067351217, 'Min_QS': 7.8713150049685323, 'Recency': 114.02368333885393, 'Occurrences': 57.769515292039308}, {'Max_QS': 9.0425908068145286, 'Span': 114.81886853101896, 'Proportion_Clicks': 0.0019716552020981699, 'Interpurchase_Impressions': 23.553656604457789, 'Cluster_No': 6, 'Median_Impressions': 1.3911925425908067, 'Lastweek_Shoppers': 0.0, 'Average_Shoppers': 0.0007482091197134592, 'Proportion_Shoppers': 4.7096623957006015e-05, 'Stddev_Shoppers': 0.0013706362144903235, 'Proportion_Revenue': nan, 'Stddev_Clicks': 0.16693769145129683, 'Median_Clicks': 1.0206525233044037, 'Total_Clicks': 5.6401478624236576, 'Total_Shoppers': 0.0028929604628736743, 'Average_QS': 8.6814516611571833, 'Stddev_Impressions': 0.74762006547692372, 'Proportion_Impressions': 0.0010291503995159511, 'Total_Impressions': 9.195596271295404, 'Average_Clicks': 1.0875629194570717, 'Median_Shoppers': 0.0001607200257152041, 'Length': 6222, 'Average_Impressions': 1.6087371365651373, 'Interpurchase_Clicks': 28.879163526874297, 'Lastweek_Clicks': 0.39858566377370619, 'Lastweek_Impressions': 0.58309225329476055, 'Interpurcahse_Shoppers': inf, 'Median_QS': 8.7211507553841212, 'Min_QS': 8.2131147540983598, 'Recency': 44.168756027000967, 'Occurrences': 5.0816457730633235}]\n",
      "[{'Max_QS': 8.6341021730842549, 'Span': 12.14735036218071, 'Proportion_Clicks': 0.0011501368832004001, 'Interpurchase_Impressions': nan, 'Cluster_No': 0, 'Median_Impressions': 1.3277258863896302, 'Lastweek_Shoppers': 0.0, 'Average_Shoppers': 0.0, 'Proportion_Shoppers': 0.0, 'Stddev_Shoppers': nan, 'Proportion_Revenue': nan, 'Stddev_Clicks': nan, 'Median_Clicks': 1.0532310331681281, 'Total_Clicks': 1.95110560426992, 'Total_Shoppers': 0.0, 'Average_QS': 8.5468206055681737, 'Stddev_Impressions': nan, 'Proportion_Impressions': 0.0004989531229952455, 'Total_Impressions': 2.6438238658025162, 'Average_Clicks': 1.0680814487011732, 'Median_Shoppers': 0.0, 'Length': 10492, 'Average_Impressions': 1.3655384597366453, 'Interpurchase_Clicks': 4.2257729167100253, 'Lastweek_Clicks': 0.16412504765535646, 'Lastweek_Impressions': 0.21425848265345024, 'Interpurcahse_Shoppers': nan, 'Median_QS': 8.5548513152878378, 'Min_QS': 8.4446244757910787, 'Recency': 44.84435760579489, 'Occurrences': 1.8031833778116659}, {'Max_QS': 8.3025869380831221, 'Span': 16.993638676844785, 'Proportion_Clicks': 0.0012828428241959226, 'Interpurchase_Impressions': nan, 'Cluster_No': 1, 'Median_Impressions': 1.6088846480067853, 'Lastweek_Shoppers': 0.0, 'Average_Shoppers': 0.10316639380431894, 'Proportion_Shoppers': 0.0035610280669713988, 'Stddev_Shoppers': nan, 'Proportion_Revenue': nan, 'Stddev_Clicks': nan, 'Median_Clicks': 1.0884223918575064, 'Total_Clicks': 4.8416030534351142, 'Total_Shoppers': 0.28859202714164545, 'Average_QS': 8.2151885943314049, 'Stddev_Impressions': nan, 'Proportion_Impressions': 0.0013306915565112394, 'Total_Impressions': 15.686810856658186, 'Average_Clicks': 1.1133789393758542, 'Median_Shoppers': 0.091072943172179815, 'Length': 4716, 'Average_Impressions': 1.6711728875052343, 'Interpurchase_Clicks': 5.2734973718948552, 'Lastweek_Clicks': 0.0, 'Lastweek_Impressions': 0.0, 'Interpurcahse_Shoppers': nan, 'Median_QS': 8.2211620016963529, 'Min_QS': 8.1172603901611531, 'Recency': 153.82018659881254, 'Occurrences': 2.0665818490245971}, {'Max_QS': 9.3140082401412592, 'Span': 164.78281341965862, 'Proportion_Clicks': 0.0042968183554003316, 'Interpurchase_Impressions': 21.574655761555874, 'Cluster_No': 2, 'Median_Impressions': 1.6481018246027075, 'Lastweek_Shoppers': 0.0, 'Average_Shoppers': 0.070399031073849649, 'Proportion_Shoppers': 0.01107555606722258, 'Stddev_Shoppers': 0.15325942057747755, 'Proportion_Revenue': nan, 'Stddev_Clicks': 0.2324912860740766, 'Median_Clicks': 1.0134638022366098, 'Total_Clicks': 11.253384343731607, 'Total_Shoppers': 0.62286639199529137, 'Average_QS': 8.9153013343439618, 'Stddev_Impressions': 1.0302479590616838, 'Proportion_Impressions': 0.0033479090817077066, 'Total_Impressions': 27.387433784579166, 'Average_Clicks': 1.1097116878984672, 'Median_Shoppers': 0.013095938787522072, 'Length': 6796, 'Average_Impressions': 1.9415947153568105, 'Interpurchase_Clicks': 27.11289696669051, 'Lastweek_Clicks': 0.65509123013537374, 'Lastweek_Impressions': 1.2302825191288993, 'Interpurcahse_Shoppers': inf, 'Median_QS': 8.9792525014714535, 'Min_QS': 8.2670688640376699, 'Recency': 100.56238964096528, 'Occurrences': 9.4749852854620364}, {'Max_QS': 10.0, 'Span': 363.0, 'Proportion_Clicks': 0.72510335135313708, 'Interpurchase_Impressions': 2.7287141623088438e-05, 'Cluster_No': 3, 'Median_Impressions': 45042.5, 'Lastweek_Shoppers': 0.0, 'Average_Shoppers': 344.97619047619048, 'Proportion_Shoppers': 0.64447281870677897, 'Stddev_Shoppers': 1712.9089734362037, 'Proportion_Revenue': nan, 'Stddev_Clicks': 4075.3350555733346, 'Median_Clicks': 18676.0, 'Total_Clicks': 6452967.0, 'Total_Shoppers': 123156.5, 'Average_QS': 10.0, 'Stddev_Impressions': 9864.9287556315194, 'Proportion_Impressions': 0.5604563668201048, 'Total_Impressions': 15579118.0, 'Average_Clicks': 18075.537815126052, 'Median_Shoppers': 0.0, 'Length': 2, 'Average_Impressions': 43638.985994397757, 'Interpurchase_Clicks': 6.7963862158802548e-05, 'Lastweek_Clicks': 247284.5, 'Lastweek_Impressions': 591440.5, 'Interpurcahse_Shoppers': 0.0034787603735170316, 'Median_QS': 10.0, 'Min_QS': 10.0, 'Recency': 127.0, 'Occurrences': 357.0}, {'Max_QS': 9.3140566037735848, 'Span': 253.68396226415095, 'Proportion_Clicks': 0.0090645124480925668, 'Interpurchase_Impressions': 23.79281306577311, 'Cluster_No': 4, 'Median_Impressions': 1.6688679245283018, 'Lastweek_Shoppers': 0.0, 'Average_Shoppers': 0.013412779575959478, 'Proportion_Shoppers': 0.0047436766241139945, 'Stddev_Shoppers': 0.034952694324356944, 'Proportion_Revenue': nan, 'Stddev_Clicks': 0.26053088222606741, 'Median_Clicks': 1.0095283018867924, 'Total_Clicks': 15.220471698113208, 'Total_Shoppers': 0.1710377358490566, 'Average_QS': 8.8018049276798731, 'Stddev_Impressions': 1.2073489132754782, 'Proportion_Impressions': 0.0068934639659126822, 'Total_Impressions': 36.154528301886792, 'Average_Clicks': 1.1159030217909303, 'Median_Shoppers': 0.0010377358490566038, 'Length': 10600, 'Average_Impressions': 2.0447054335794697, 'Interpurchase_Clicks': 31.30381766495789, 'Lastweek_Clicks': 0.72575471698113203, 'Lastweek_Impressions': 1.3108490566037736, 'Interpurcahse_Shoppers': inf, 'Median_QS': 8.8565094339622643, 'Min_QS': 7.9842452830188675, 'Recency': 63.322075471698113, 'Occurrences': 12.840094339622642}, {'Max_QS': 9.6260351109638957, 'Span': 337.97449486584964, 'Proportion_Clicks': 0.14135328934035876, 'Interpurchase_Impressions': 9.3390670643907665, 'Cluster_No': 5, 'Median_Impressions': 4.710113724191233, 'Lastweek_Shoppers': 0.0, 'Average_Shoppers': 0.061064236972440976, 'Proportion_Shoppers': 0.22806540151180166, 'Stddev_Shoppers': 0.23144089232243584, 'Proportion_Revenue': nan, 'Stddev_Clicks': 0.74927829088372189, 'Median_Clicks': 1.1902947996025175, 'Total_Clicks': 138.89323175444409, 'Total_Shoppers': 4.8120238489566081, 'Average_QS': 9.1185508248756637, 'Stddev_Impressions': 3.7676973299825613, 'Proportion_Impressions': 0.24038120313590572, 'Total_Impressions': 737.76355305288723, 'Average_Clicks': 1.4735334602659398, 'Median_Shoppers': 0.00096610356630230762, 'Length': 18114, 'Average_Impressions': 5.5572621872537207, 'Interpurchase_Clicks': 13.78393477909639, 'Lastweek_Clicks': 6.1350336756100257, 'Lastweek_Impressions': 30.669316550734237, 'Interpurcahse_Shoppers': inf, 'Median_QS': 9.1922270067351217, 'Min_QS': 7.8713150049685323, 'Recency': 114.02368333885393, 'Occurrences': 57.769515292039308}, {'Max_QS': 9.0425908068145286, 'Span': 114.81886853101896, 'Proportion_Clicks': 0.0019716552020981699, 'Interpurchase_Impressions': 23.553656604457789, 'Cluster_No': 6, 'Median_Impressions': 1.3911925425908067, 'Lastweek_Shoppers': 0.0, 'Average_Shoppers': 0.0007482091197134592, 'Proportion_Shoppers': 4.7096623957006015e-05, 'Stddev_Shoppers': 0.0013706362144903235, 'Proportion_Revenue': nan, 'Stddev_Clicks': 0.16693769145129683, 'Median_Clicks': 1.0206525233044037, 'Total_Clicks': 5.6401478624236576, 'Total_Shoppers': 0.0028929604628736743, 'Average_QS': 8.6814516611571833, 'Stddev_Impressions': 0.74762006547692372, 'Proportion_Impressions': 0.0010291503995159511, 'Total_Impressions': 9.195596271295404, 'Average_Clicks': 1.0875629194570717, 'Median_Shoppers': 0.0001607200257152041, 'Length': 6222, 'Average_Impressions': 1.6087371365651373, 'Interpurchase_Clicks': 28.879163526874297, 'Lastweek_Clicks': 0.39858566377370619, 'Lastweek_Impressions': 0.58309225329476055, 'Interpurcahse_Shoppers': inf, 'Median_QS': 8.7211507553841212, 'Min_QS': 8.2131147540983598, 'Recency': 44.168756027000967, 'Occurrences': 5.0816457730633235}, {'Max_QS': 9.780219780219781, 'Span': 343.7802197802198, 'Proportion_Clicks': 0.11577739359351677, 'Interpurchase_Impressions': 0.0059480541936054628, 'Cluster_No': 7, 'Median_Impressions': 331.2802197802198, 'Lastweek_Shoppers': 0.0, 'Average_Shoppers': 1.5372356094118922, 'Proportion_Shoppers': 0.10803442239915435, 'Stddev_Shoppers': 7.2051584265906436, 'Proportion_Revenue': nan, 'Stddev_Clicks': 53.222789592689459, 'Median_Clicks': 54.554945054945058, 'Total_Clicks': 22644.978021978022, 'Total_Shoppers': 453.73626373626371, 'Average_QS': 9.3632105218691599, 'Stddev_Impressions': 259.50975020798791, 'Proportion_Impressions': 0.18606226191734668, 'Total_Impressions': 113670.54945054946, 'Average_Clicks': 70.335794337474923, 'Median_Shoppers': 0.0, 'Length': 91, 'Average_Impressions': 387.75078002688349, 'Interpurchase_Clicks': 0.15332238235627152, 'Lastweek_Clicks': 1339.4615384615386, 'Lastweek_Impressions': 5538.3516483516487, 'Interpurcahse_Shoppers': inf, 'Median_QS': 9.4175824175824179, 'Min_QS': 7.4505494505494507, 'Recency': 125.81318681318682, 'Occurrences': 285.02197802197804}]\n"
     ]
    }
   ],
   "source": [
    "\n",
    "data = _basicstats.as_matrix(['Median_Shoppers','Recency','Span','Occurrences','Median_Impressions','Median_Clicks','Median_QS','Lastweek_Impressions',\n",
    "                     'Lastweek_Clicks','Lastweek_Shoppers']) \n",
    "all_variables = ['Median_Shoppers','Recency','Span','Occurrences','Median_Impressions','Median_Clicks','Median_QS','Lastweek_Impressions','Lastweek_Clicks','Lastweek_Shoppers']\n",
    "\n",
    "# computing K-Means \n",
    "#centroids,_ = kmeans(data,K)\n",
    "centroids,_ = kmeans(data,8)\n",
    "# assign each sample to a cluster\n",
    "idx,_ = vq(data,centroids)\n",
    "\n",
    "#comment above code for elbow method\n",
    "\n",
    "#idx,_ = vq(X,centroids[kIdx])\n",
    "idx,_ = vq(data,centroids)\n",
    "\n",
    "_basicstats['cluster'] = idx\n",
    "\n",
    "# Get cluster distribution\n",
    "all_dict_recs = []\n",
    "req_vars = ['Average_Shoppers','Median_Shoppers','Stddev_Shoppers','Total_Shoppers','Recency','Span','Occurrences',\n",
    "            'Total_Impressions','Average_Impressions','Stddev_Impressions','Median_Impressions','Stddev_Clicks',\n",
    "            'Median_Clicks','Average_Clicks','Total_Clicks','Average_QS','Max_QS','Median_QS','Min_QS','Lastweek_Impressions',\n",
    "            'Lastweek_Clicks','Lastweek_Shoppers','Interpurchase_Clicks','Interpurchase_Impressions','Interpurcahse_Shoppers']\n",
    "for i in set(idx):\n",
    "    _df = _basicstats[idx==i]\n",
    "    print i, len(_df)\n",
    "    arr_dict=dict([(j, np.average(_df[j])) for j in req_vars])\n",
    "    arr_dict['cluster_no'] = i\n",
    "    arr_dict['length'] = len(_df)\n",
    "    all_dict_recs.append(arr_dict)\n",
    "    #print(all_dict_recs)\n",
    "    \n",
    "# Compute aggregate features for each cluster\n",
    "all_dict_recs = []\n",
    "add_vars = ['Proportion_Clicks','Proportion_Impressions','Proportion_Shoppers','Proportion_Revenue']\n",
    "idx = _basicstats['cluster'] \n",
    "for i in set(idx):\n",
    "    _df = _basicstats[idx==i]\n",
    "    arr_dict=dict([(j, np.average(_df[j])) for j in req_vars])\n",
    "    arr_dict.update([(k, np.sum(_df[k])) for k in add_vars])\n",
    "    arr_dict['Cluster_No'] = i\n",
    "    arr_dict['Length'] = len(_df)\n",
    "    all_dict_recs.append(arr_dict)\n",
    "    print(all_dict_recs)"
   ]
  },
  {
   "cell_type": "markdown",
   "metadata": {},
   "source": [
    "### Step 3: Hierarchical clustering on each of the K clusters identified in step 2"
   ]
  },
  {
   "cell_type": "code",
   "execution_count": 61,
   "metadata": {
    "collapsed": true
   },
   "outputs": [],
   "source": [
    "# SET THE MAX NUMBER OF SUB-CLUSTERS FOR EACH CLUSTER\n",
    "max_sc = 4\n",
    "\n",
    "# SET THE DENDROGRAM CUT-POINT INCREMENT VALUE\n",
    "cut_pt = 500 #500 for IF #50 for RLSA\n",
    "\n",
    "# SET THE MAX NUMBER OF ITERATIONS TO DECIDE FINAL CUT-POINT\n",
    "max_iter = 8"
   ]
  },
  {
   "cell_type": "code",
   "execution_count": 62,
   "metadata": {
    "collapsed": true
   },
   "outputs": [],
   "source": [
    "def fancy_dendrogram(*args, **kwargs):\n",
    "    max_d = kwargs.pop('max_d', None)\n",
    "    if max_d and 'color_threshold' not in kwargs:\n",
    "        kwargs['color_threshold'] = max_d\n",
    "    annotate_above = kwargs.pop('annotate_above', 0)\n",
    "\n",
    "    ddata = dendrogram(*args, **kwargs)\n",
    "\n",
    "    if not kwargs.get('no_plot', False):\n",
    "        plt.title('Hierarchical Clustering Dendrogram (truncated)')\n",
    "        plt.xlabel('sample index or (cluster size)')\n",
    "        plt.ylabel('distance')\n",
    "        for i, d, c in zip(ddata['icoord'], ddata['dcoord'], ddata['color_list']):\n",
    "            x = 0.5 * sum(i[1:3])\n",
    "            y = d[1]\n",
    "            if y > annotate_above:\n",
    "                plt.plot(x, y, 'o', c=c)\n",
    "                plt.annotate(\"%.3g\" % y, (x, y), xytext=(0, -5),\n",
    "                             textcoords='offset points',\n",
    "                             va='top', ha='center')\n",
    "        if max_d:\n",
    "            plt.axhline(y=max_d, c='k')\n",
    "    return ddata"
   ]
  },
  {
   "cell_type": "code",
   "execution_count": 70,
   "metadata": {
    "collapsed": false
   },
   "outputs": [],
   "source": [
    "df[df['cluster']==1][['Median_Shoppers','Recency','Span','Occurrences','Median_Impressions','Median_Clicks',\n",
    "                        'Median_QS','Lastweek_Impressions','Lastweek_Clicks','Lastweek_Shoppers']].to_csv(output_location+'temp.csv',index=False)"
   ]
  },
  {
   "cell_type": "code",
   "execution_count": 68,
   "metadata": {
    "collapsed": false
   },
   "outputs": [
    {
     "data": {
      "text/plain": [
       "Median_Shoppers         False\n",
       "Recency                 False\n",
       "Span                    False\n",
       "Occurrences             False\n",
       "Median_Impressions      False\n",
       "Median_Clicks           False\n",
       "Median_QS               False\n",
       "Lastweek_Impressions    False\n",
       "Lastweek_Clicks         False\n",
       "Lastweek_Shoppers       False\n",
       "dtype: bool"
      ]
     },
     "execution_count": 68,
     "metadata": {},
     "output_type": "execute_result"
    }
   ],
   "source": [
    "df[df['cluster']==1][['Median_Shoppers','Recency','Span','Occurrences','Median_Impressions','Median_Clicks',\n",
    "                        'Median_QS','Lastweek_Impressions','Lastweek_Clicks','Lastweek_Shoppers']].isnull().any()"
   ]
  },
  {
   "cell_type": "code",
   "execution_count": 85,
   "metadata": {
    "collapsed": false
   },
   "outputs": [
    {
     "name": "stderr",
     "output_type": "stream",
     "text": [
      "/opt/Envs/DS-Py/lib/python2.7/site-packages/ipykernel/__main__.py:3: SettingWithCopyWarning: \n",
      "A value is trying to be set on a copy of a slice from a DataFrame.\n",
      "Try using .loc[row_indexer,col_indexer] = value instead\n",
      "\n",
      "See the caveats in the documentation: http://pandas.pydata.org/pandas-docs/stable/indexing.html#indexing-view-versus-copy\n",
      "  app.launch_new_instance()\n"
     ]
    }
   ],
   "source": [
    "for i in [1,3]:\n",
    "    faulty_cluster = df[df['cluster']==i]\n",
    "    faulty_cluster['sub_cluster'] = 0\n",
    "    faulty_cluster.to_csv(output_location+'/Keywords_Hierarchical_clustering_result_c' + str(i) + '.csv', index=False)"
   ]
  },
  {
   "cell_type": "code",
   "execution_count": null,
   "metadata": {
    "collapsed": true
   },
   "outputs": [],
   "source": []
  },
  {
   "cell_type": "code",
   "execution_count": 64,
   "metadata": {
    "collapsed": true
   },
   "outputs": [],
   "source": [
    "def level2clustering(i):\n",
    "    # subset the dataframe for given cluster id\n",
    "    _df = df[df['cluster']==i]\n",
    "    \n",
    "    #if len(_df) > 12000:\n",
    "        #return\n",
    "    \n",
    "    _X = _df.as_matrix(['Median_Shoppers','Recency','Span','Occurrences','Median_Impressions','Median_Clicks',\n",
    "                        'Median_QS','Lastweek_Impressions','Lastweek_Clicks','Lastweek_Shoppers']) \n",
    "    \n",
    "    # generate the linkage matrix\n",
    "    Z = linkage(_X, 'ward')\n",
    "    \n",
    "    # decide on dendrogram cut-point\n",
    "    for iter in range(0,max_iter-1):\n",
    "        # set max_distance cut-off to cut the dendrogram\n",
    "        max_d = cut_pt * (iter + 1)\n",
    "        #print iter, max_d\n",
    "        \n",
    "        # find clusters for given max_distance\n",
    "        clusters = fcluster(Z, max_d, criterion='distance')\n",
    "\n",
    "        if len(set(clusters)) <= max_sc:\n",
    "            break\n",
    "           \n",
    "    # plot the dendrogram\n",
    "    plt.clf()\n",
    "    fancy_dendrogram(\n",
    "        Z,\n",
    "        truncate_mode='lastp',\n",
    "        p=12,\n",
    "        leaf_rotation=90.,\n",
    "        leaf_font_size=12.,\n",
    "        show_contracted=True,\n",
    "        annotate_above=10,\n",
    "        max_d=max_d,  # plot a horizontal cut-off line\n",
    "    )\n",
    "    #plt.show()\n",
    "    #plt.clf()\n",
    "    plt.savefig(output_location+'/Dendrogram_c'+str(i)+'.png')\n",
    "    \n",
    "    # compute Silhouette Coefficient\n",
    "    with open(output_location+\"/SilhouetteCoefficient.txt\", \"a\") as myfile:\n",
    "        myfile.write(\"Cluster: \" + str(i) + \", => SC: \" + str(metrics.silhouette_score(_X, clusters)) + \"\\n\")\n",
    "    \n",
    "    # get sub-cluster number\n",
    "    _df['sub_cluster'] = clusters\n",
    "    _df.to_csv(output_location+'/Keywords_Hierarchical_clustering_result_c' + str(i) + '.csv', index=False)\n",
    "    \n",
    "    # compute aggregate features for each sub-cluster\n",
    "    all_dict_recs = []\n",
    "    req_vars = ['Average_Shoppers','Median_Shoppers','Stddev_Shoppers','Total_Shoppers','Recency','Span','Occurrences',\n",
    "                'Total_Impressions','Average_Impressions','Stddev_Impressions','Median_Impressions','Stddev_Clicks',\n",
    "                'Median_Clicks','Average_Clicks','Total_Clicks','Average_QS','Max_QS','Median_QS','Min_QS','Lastweek_Impressions',\n",
    "                'Lastweek_Clicks','Lastweek_Shoppers','Interpurchase_Clicks','Interpurchase_Impressions','Interpurcahse_Shoppers']\n",
    "\n",
    "    add_vars = ['Proportion_Clicks','Proportion_Impressions','Proportion_Shoppers','Proportion_Revenue']\n",
    "\n",
    "    scidx = _df['sub_cluster'] # for temp file \n",
    "    for sc in set(scidx):\n",
    "        __df = _df[scidx==sc]\n",
    "        arr_dict=dict([(j, np.average(__df[j])) for j in req_vars])\n",
    "        arr_dict.update([(k, np.sum(__df[k])) for k in add_vars])\n",
    "        arr_dict['Sub_Cluster_No'] = sc\n",
    "        arr_dict['Sub_Cluster_Length'] = len(__df)\n",
    "        arr_dict['Cluster_No'] = i\n",
    "        arr_dict['Cluster_Length'] = len(_df)\n",
    "        all_dict_recs.append(arr_dict)\n",
    "        #print(all_dict_recs)\n",
    "    \n",
    "    pd.DataFrame.from_dict(all_dict_recs).to_csv(output_location+'/Keywords_Hierarchical_clustering_summary_c' + str(i) + '.csv', index=False)   "
   ]
  },
  {
   "cell_type": "code",
   "execution_count": 65,
   "metadata": {
    "collapsed": false,
    "scrolled": true
   },
   "outputs": [
    {
     "data": {
      "text/plain": [
       "Index([u'KeywordId', u'Total_Revenue', u'Stddev_Revenue', u'Median_Revenue',\n",
       "       u'Average_Revenue', u'Average_Shoppers', u'Median_Shoppers',\n",
       "       u'Stddev_Shoppers', u'Total_Shoppers', u'Recency', u'Span',\n",
       "       u'Occurrences', u'First_Occurrence', u'Last_Occurrence',\n",
       "       u'Total_Impressions', u'Average_Impressions', u'Stddev_Impressions',\n",
       "       u'Median_Impressions', u'Stddev_Clicks', u'Median_Clicks',\n",
       "       u'Average_Clicks', u'Total_Clicks', u'Average_QS', u'Max_QS',\n",
       "       u'Median_QS', u'Min_QS', u'Lastweek_Impressions', u'Lastweek_Clicks',\n",
       "       u'Lastweek_Shoppers', u'Interpurchase_Clicks',\n",
       "       u'Interpurchase_Impressions', u'Interpurcahse_Shoppers',\n",
       "       u'Proportion_Clicks', u'Proportion_Impressions', u'Proportion_Shoppers',\n",
       "       u'Proportion_Revenue', u'cluster'],\n",
       "      dtype='object')"
      ]
     },
     "execution_count": 65,
     "metadata": {},
     "output_type": "execute_result"
    }
   ],
   "source": [
    "_basicstats.reset_index().columns"
   ]
  },
  {
   "cell_type": "code",
   "execution_count": 66,
   "metadata": {
    "collapsed": false
   },
   "outputs": [
    {
     "data": {
      "text/plain": [
       "57033"
      ]
     },
     "execution_count": 66,
     "metadata": {},
     "output_type": "execute_result"
    }
   ],
   "source": [
    "len(_basicstats)"
   ]
  },
  {
   "cell_type": "code",
   "execution_count": 72,
   "metadata": {
    "collapsed": false
   },
   "outputs": [
    {
     "name": "stderr",
     "output_type": "stream",
     "text": [
      "/opt/Envs/DS-Py/lib/python2.7/site-packages/ipykernel/__main__.py:47: SettingWithCopyWarning: \n",
      "A value is trying to be set on a copy of a slice from a DataFrame.\n",
      "Try using .loc[row_indexer,col_indexer] = value instead\n",
      "\n",
      "See the caveats in the documentation: http://pandas.pydata.org/pandas-docs/stable/indexing.html#indexing-view-versus-copy\n"
     ]
    },
    {
     "data": {
      "image/png": "[encoded data removed]",
      "text/plain": [
       "<matplotlib.figure.Figure at 0x18650110>"
      ]
     },
     "metadata": {},
     "output_type": "display_data"
    }
   ],
   "source": [
    "df = _basicstats.reset_index()\n",
    "idx = df['cluster']\n",
    "#for i in set(idx):\n",
    "for i in [0,2,4,5,6,7]: #HACK: skipping few clusters\n",
    "    level2clustering(i)"
   ]
  },
  {
   "cell_type": "markdown",
   "metadata": {},
   "source": [
    "### Step 4: (Cluster, Sub-cluster) mapping to (Keyword sets)"
   ]
  },
  {
   "cell_type": "code",
   "execution_count": 86,
   "metadata": {
    "collapsed": false
   },
   "outputs": [
    {
     "data": {
      "text/plain": [
       "0"
      ]
     },
     "execution_count": 86,
     "metadata": {},
     "output_type": "execute_result"
    }
   ],
   "source": [
    "os.system(\"cat \"+output_location+\"/Keywords_Hierarchical_clustering_result_c* | grep -v Proportion >\"+output_location+\"/Keywords_Hierarchical_clustering_result_merged.csv\")"
   ]
  },
  {
   "cell_type": "code",
   "execution_count": 87,
   "metadata": {
    "collapsed": false
   },
   "outputs": [],
   "source": [
    "resultdf = pd.read_csv(output_location+'/Keywords_Hierarchical_clustering_result_merged.csv', sep = ',',header=None)\n",
    "#resultdf.columns = ['Unnamed: 0','KeywordId','Total_Revenue','Stddev_Revenue','Median_Revenue','Average_Revenue','Average_Shoppers','Median_Shoppers','Stddev_Shoppers','Total_Shoppers','Recency','Span','Occurrences','First_Occurrence','Last_Occurrence','Total_Impressions','Average_Impressions','Stddev_Impressions','Median_Impressions','Stddev_Clicks','Median_Clicks','Average_Clicks','Total_Clicks','Average_QS','Max_QS','Median_QS','Min_QS','Lastweek_Impressions','Lastweek_Clicks','Lastweek_Shoppers','Interpurchase_Clicks','Interpurchase_Impressions','Interpurcahse_Shoppers','Proportion_Clicks','Proportion_Impressions','Proportion_Shoppers','Proportion_Revenue','KeywordDesc','MatchType','cluster','sub_cluster']\n",
    "resultdf.columns = ['KeywordId','Total_Revenue','Stddev_Revenue','Median_Revenue','Average_Revenue','Average_Shoppers','Median_Shoppers','Stddev_Shoppers','Total_Shoppers','Recency','Span','Occurrences','First_Occurrence','Last_Occurrence','Total_Impressions','Average_Impressions','Stddev_Impressions','Median_Impressions','Stddev_Clicks','Median_Clicks','Average_Clicks','Total_Clicks','Average_QS','Max_QS','Median_QS','Min_QS','Lastweek_Impressions','Lastweek_Clicks','Lastweek_Shoppers','Interpurchase_Clicks','Interpurchase_Impressions','Interpurcahse_Shoppers','Proportion_Clicks','Proportion_Impressions','Proportion_Shoppers','Proportion_Revenue','cluster','sub_cluster']\n",
    "\n",
    "def genTag(x):\n",
    "    return str(x['cluster'])+\"_\"+str(x['sub_cluster'])\n",
    "\n",
    "resultdf['tag'] = resultdf.apply(lambda x: genTag(x), axis = 1)"
   ]
  },
  {
   "cell_type": "code",
   "execution_count": 88,
   "metadata": {
    "collapsed": false
   },
   "outputs": [
    {
     "name": "stderr",
     "output_type": "stream",
     "text": [
      "/opt/Envs/DS-Py/lib/python2.7/site-packages/ipykernel/__main__.py:2: SettingWithCopyWarning: \n",
      "A value is trying to be set on a copy of a slice from a DataFrame.\n",
      "Try using .loc[row_indexer,col_indexer] = value instead\n",
      "\n",
      "See the caveats in the documentation: http://pandas.pydata.org/pandas-docs/stable/indexing.html#indexing-view-versus-copy\n",
      "  from ipykernel import kernelapp as app\n",
      "/opt/Envs/DS-Py/lib/python2.7/site-packages/ipykernel/__main__.py:3: SettingWithCopyWarning: \n",
      "A value is trying to be set on a copy of a slice from a DataFrame.\n",
      "Try using .loc[row_indexer,col_indexer] = value instead\n",
      "\n",
      "See the caveats in the documentation: http://pandas.pydata.org/pandas-docs/stable/indexing.html#indexing-view-versus-copy\n",
      "  app.launch_new_instance()\n",
      "/opt/Envs/DS-Py/lib/python2.7/site-packages/ipykernel/__main__.py:4: SettingWithCopyWarning: \n",
      "A value is trying to be set on a copy of a slice from a DataFrame.\n",
      "Try using .loc[row_indexer,col_indexer] = value instead\n",
      "\n",
      "See the caveats in the documentation: http://pandas.pydata.org/pandas-docs/stable/indexing.html#indexing-view-versus-copy\n"
     ]
    },
    {
     "data": {
      "text/html": [
       "<div>\n",
       "<table border=\"1\" class=\"dataframe\">\n",
       "  <thead>\n",
       "    <tr style=\"text-align: right;\">\n",
       "      <th></th>\n",
       "      <th>Proportion_Shoppers</th>\n",
       "      <th>No_of_Keywords</th>\n",
       "      <th>Proportion_Clicks</th>\n",
       "      <th>Proportion_Impressions</th>\n",
       "    </tr>\n",
       "    <tr>\n",
       "      <th>tag</th>\n",
       "      <th></th>\n",
       "      <th></th>\n",
       "      <th></th>\n",
       "      <th></th>\n",
       "    </tr>\n",
       "  </thead>\n",
       "  <tbody>\n",
       "    <tr>\n",
       "      <th>0_1</th>\n",
       "      <td>0.000000</td>\n",
       "      <td>6070</td>\n",
       "      <td>0.000604</td>\n",
       "      <td>0.000262</td>\n",
       "    </tr>\n",
       "    <tr>\n",
       "      <th>0_2</th>\n",
       "      <td>0.000000</td>\n",
       "      <td>4422</td>\n",
       "      <td>0.000546</td>\n",
       "      <td>0.000237</td>\n",
       "    </tr>\n",
       "    <tr>\n",
       "      <th>1_0</th>\n",
       "      <td>0.003561</td>\n",
       "      <td>4716</td>\n",
       "      <td>0.001283</td>\n",
       "      <td>0.001331</td>\n",
       "    </tr>\n",
       "    <tr>\n",
       "      <th>2_1</th>\n",
       "      <td>0.007530</td>\n",
       "      <td>2624</td>\n",
       "      <td>0.002051</td>\n",
       "      <td>0.001551</td>\n",
       "    </tr>\n",
       "    <tr>\n",
       "      <th>2_2</th>\n",
       "      <td>0.003537</td>\n",
       "      <td>1776</td>\n",
       "      <td>0.000952</td>\n",
       "      <td>0.000828</td>\n",
       "    </tr>\n",
       "    <tr>\n",
       "      <th>2_3</th>\n",
       "      <td>0.000000</td>\n",
       "      <td>1012</td>\n",
       "      <td>0.000609</td>\n",
       "      <td>0.000560</td>\n",
       "    </tr>\n",
       "    <tr>\n",
       "      <th>2_4</th>\n",
       "      <td>0.000008</td>\n",
       "      <td>1384</td>\n",
       "      <td>0.000684</td>\n",
       "      <td>0.000409</td>\n",
       "    </tr>\n",
       "    <tr>\n",
       "      <th>3_0</th>\n",
       "      <td>0.644473</td>\n",
       "      <td>2</td>\n",
       "      <td>0.725103</td>\n",
       "      <td>0.560456</td>\n",
       "    </tr>\n",
       "    <tr>\n",
       "      <th>4_1</th>\n",
       "      <td>0.000000</td>\n",
       "      <td>1234</td>\n",
       "      <td>0.000726</td>\n",
       "      <td>0.000403</td>\n",
       "    </tr>\n",
       "    <tr>\n",
       "      <th>4_2</th>\n",
       "      <td>0.000000</td>\n",
       "      <td>2735</td>\n",
       "      <td>0.002300</td>\n",
       "      <td>0.001888</td>\n",
       "    </tr>\n",
       "    <tr>\n",
       "      <th>4_3</th>\n",
       "      <td>0.000000</td>\n",
       "      <td>3158</td>\n",
       "      <td>0.003078</td>\n",
       "      <td>0.002412</td>\n",
       "    </tr>\n",
       "    <tr>\n",
       "      <th>4_4</th>\n",
       "      <td>0.004744</td>\n",
       "      <td>3473</td>\n",
       "      <td>0.002961</td>\n",
       "      <td>0.002191</td>\n",
       "    </tr>\n",
       "    <tr>\n",
       "      <th>5_1</th>\n",
       "      <td>0.012687</td>\n",
       "      <td>52</td>\n",
       "      <td>0.007471</td>\n",
       "      <td>0.024401</td>\n",
       "    </tr>\n",
       "    <tr>\n",
       "      <th>5_2</th>\n",
       "      <td>0.022005</td>\n",
       "      <td>158</td>\n",
       "      <td>0.013654</td>\n",
       "      <td>0.030442</td>\n",
       "    </tr>\n",
       "    <tr>\n",
       "      <th>5_3</th>\n",
       "      <td>0.018794</td>\n",
       "      <td>95</td>\n",
       "      <td>0.017482</td>\n",
       "      <td>0.034693</td>\n",
       "    </tr>\n",
       "    <tr>\n",
       "      <th>5_4</th>\n",
       "      <td>0.058994</td>\n",
       "      <td>761</td>\n",
       "      <td>0.035199</td>\n",
       "      <td>0.066564</td>\n",
       "    </tr>\n",
       "    <tr>\n",
       "      <th>5_5</th>\n",
       "      <td>0.034838</td>\n",
       "      <td>11380</td>\n",
       "      <td>0.017150</td>\n",
       "      <td>0.011707</td>\n",
       "    </tr>\n",
       "    <tr>\n",
       "      <th>5_6</th>\n",
       "      <td>0.031332</td>\n",
       "      <td>1101</td>\n",
       "      <td>0.019435</td>\n",
       "      <td>0.032997</td>\n",
       "    </tr>\n",
       "    <tr>\n",
       "      <th>5_7</th>\n",
       "      <td>0.049415</td>\n",
       "      <td>4567</td>\n",
       "      <td>0.030962</td>\n",
       "      <td>0.039576</td>\n",
       "    </tr>\n",
       "    <tr>\n",
       "      <th>6_1</th>\n",
       "      <td>0.000000</td>\n",
       "      <td>1343</td>\n",
       "      <td>0.000498</td>\n",
       "      <td>0.000277</td>\n",
       "    </tr>\n",
       "    <tr>\n",
       "      <th>6_2</th>\n",
       "      <td>0.000000</td>\n",
       "      <td>1338</td>\n",
       "      <td>0.000521</td>\n",
       "      <td>0.000290</td>\n",
       "    </tr>\n",
       "    <tr>\n",
       "      <th>6_3</th>\n",
       "      <td>0.000000</td>\n",
       "      <td>1609</td>\n",
       "      <td>0.000442</td>\n",
       "      <td>0.000205</td>\n",
       "    </tr>\n",
       "    <tr>\n",
       "      <th>6_4</th>\n",
       "      <td>0.000047</td>\n",
       "      <td>1932</td>\n",
       "      <td>0.000510</td>\n",
       "      <td>0.000257</td>\n",
       "    </tr>\n",
       "    <tr>\n",
       "      <th>7_1</th>\n",
       "      <td>0.024477</td>\n",
       "      <td>38</td>\n",
       "      <td>0.017158</td>\n",
       "      <td>0.034130</td>\n",
       "    </tr>\n",
       "    <tr>\n",
       "      <th>7_10</th>\n",
       "      <td>0.003399</td>\n",
       "      <td>1</td>\n",
       "      <td>0.004185</td>\n",
       "      <td>0.011959</td>\n",
       "    </tr>\n",
       "    <tr>\n",
       "      <th>7_11</th>\n",
       "      <td>0.000740</td>\n",
       "      <td>1</td>\n",
       "      <td>0.012044</td>\n",
       "      <td>0.008543</td>\n",
       "    </tr>\n",
       "    <tr>\n",
       "      <th>7_2</th>\n",
       "      <td>0.006960</td>\n",
       "      <td>7</td>\n",
       "      <td>0.003143</td>\n",
       "      <td>0.014531</td>\n",
       "    </tr>\n",
       "    <tr>\n",
       "      <th>7_3</th>\n",
       "      <td>0.011104</td>\n",
       "      <td>22</td>\n",
       "      <td>0.011472</td>\n",
       "      <td>0.026347</td>\n",
       "    </tr>\n",
       "    <tr>\n",
       "      <th>7_4</th>\n",
       "      <td>0.015667</td>\n",
       "      <td>4</td>\n",
       "      <td>0.014783</td>\n",
       "      <td>0.011975</td>\n",
       "    </tr>\n",
       "    <tr>\n",
       "      <th>7_5</th>\n",
       "      <td>0.001824</td>\n",
       "      <td>2</td>\n",
       "      <td>0.000952</td>\n",
       "      <td>0.005580</td>\n",
       "    </tr>\n",
       "    <tr>\n",
       "      <th>7_6</th>\n",
       "      <td>0.004822</td>\n",
       "      <td>7</td>\n",
       "      <td>0.007152</td>\n",
       "      <td>0.026318</td>\n",
       "    </tr>\n",
       "    <tr>\n",
       "      <th>7_7</th>\n",
       "      <td>0.027617</td>\n",
       "      <td>4</td>\n",
       "      <td>0.030285</td>\n",
       "      <td>0.020636</td>\n",
       "    </tr>\n",
       "    <tr>\n",
       "      <th>7_8</th>\n",
       "      <td>0.003019</td>\n",
       "      <td>2</td>\n",
       "      <td>0.008416</td>\n",
       "      <td>0.014057</td>\n",
       "    </tr>\n",
       "    <tr>\n",
       "      <th>7_9</th>\n",
       "      <td>0.008404</td>\n",
       "      <td>3</td>\n",
       "      <td>0.006187</td>\n",
       "      <td>0.011986</td>\n",
       "    </tr>\n",
       "  </tbody>\n",
       "</table>\n",
       "</div>"
      ],
      "text/plain": [
       "      Proportion_Shoppers  No_of_Keywords  Proportion_Clicks  \\\n",
       "tag                                                            \n",
       "0_1              0.000000            6070           0.000604   \n",
       "0_2              0.000000            4422           0.000546   \n",
       "1_0              0.003561            4716           0.001283   \n",
       "2_1              0.007530            2624           0.002051   \n",
       "2_2              0.003537            1776           0.000952   \n",
       "2_3              0.000000            1012           0.000609   \n",
       "2_4              0.000008            1384           0.000684   \n",
       "3_0              0.644473               2           0.725103   \n",
       "4_1              0.000000            1234           0.000726   \n",
       "4_2              0.000000            2735           0.002300   \n",
       "4_3              0.000000            3158           0.003078   \n",
       "4_4              0.004744            3473           0.002961   \n",
       "5_1              0.012687              52           0.007471   \n",
       "5_2              0.022005             158           0.013654   \n",
       "5_3              0.018794              95           0.017482   \n",
       "5_4              0.058994             761           0.035199   \n",
       "5_5              0.034838           11380           0.017150   \n",
       "5_6              0.031332            1101           0.019435   \n",
       "5_7              0.049415            4567           0.030962   \n",
       "6_1              0.000000            1343           0.000498   \n",
       "6_2              0.000000            1338           0.000521   \n",
       "6_3              0.000000            1609           0.000442   \n",
       "6_4              0.000047            1932           0.000510   \n",
       "7_1              0.024477              38           0.017158   \n",
       "7_10             0.003399               1           0.004185   \n",
       "7_11             0.000740               1           0.012044   \n",
       "7_2              0.006960               7           0.003143   \n",
       "7_3              0.011104              22           0.011472   \n",
       "7_4              0.015667               4           0.014783   \n",
       "7_5              0.001824               2           0.000952   \n",
       "7_6              0.004822               7           0.007152   \n",
       "7_7              0.027617               4           0.030285   \n",
       "7_8              0.003019               2           0.008416   \n",
       "7_9              0.008404               3           0.006187   \n",
       "\n",
       "      Proportion_Impressions  \n",
       "tag                           \n",
       "0_1                 0.000262  \n",
       "0_2                 0.000237  \n",
       "1_0                 0.001331  \n",
       "2_1                 0.001551  \n",
       "2_2                 0.000828  \n",
       "2_3                 0.000560  \n",
       "2_4                 0.000409  \n",
       "3_0                 0.560456  \n",
       "4_1                 0.000403  \n",
       "4_2                 0.001888  \n",
       "4_3                 0.002412  \n",
       "4_4                 0.002191  \n",
       "5_1                 0.024401  \n",
       "5_2                 0.030442  \n",
       "5_3                 0.034693  \n",
       "5_4                 0.066564  \n",
       "5_5                 0.011707  \n",
       "5_6                 0.032997  \n",
       "5_7                 0.039576  \n",
       "6_1                 0.000277  \n",
       "6_2                 0.000290  \n",
       "6_3                 0.000205  \n",
       "6_4                 0.000257  \n",
       "7_1                 0.034130  \n",
       "7_10                0.011959  \n",
       "7_11                0.008543  \n",
       "7_2                 0.014531  \n",
       "7_3                 0.026347  \n",
       "7_4                 0.011975  \n",
       "7_5                 0.005580  \n",
       "7_6                 0.026318  \n",
       "7_7                 0.020636  \n",
       "7_8                 0.014057  \n",
       "7_9                 0.011986  "
      ]
     },
     "execution_count": 88,
     "metadata": {},
     "output_type": "execute_result"
    }
   ],
   "source": [
    "_resultdf = resultdf[['KeywordId','Proportion_Clicks','Proportion_Impressions','Proportion_Shoppers','tag']]\n",
    "_resultdf['Proportion_Clicks'] = _resultdf['Proportion_Clicks'].astype(float)\n",
    "_resultdf['Proportion_Impressions'] = _resultdf['Proportion_Impressions'].astype(float)\n",
    "_resultdf['Proportion_Shoppers'] = _resultdf['Proportion_Shoppers'].astype(float)\n",
    "\n",
    "__resultdf_tag = _resultdf.groupby(['tag']).agg({'KeywordId':{'No_of_Keywords':'nunique'},\n",
    "                                                 'Proportion_Clicks':{'Proportion_Clicks':'sum'},\n",
    "                                                 'Proportion_Impressions':{'Proportion_Impressions':'sum'},\n",
    "                                                 'Proportion_Shoppers':{'Proportion_Shoppers':'sum'}})\n",
    "__resultdf_tag.columns = __resultdf_tag.columns.droplevel(0)\n",
    "__resultdf_tag\n",
    "\n",
    "#'AdGroupId':{'No_of_Adgroups':'nunique'},"
   ]
  },
  {
   "cell_type": "code",
   "execution_count": 89,
   "metadata": {
    "collapsed": false
   },
   "outputs": [
    {
     "name": "stderr",
     "output_type": "stream",
     "text": [
      "/opt/Envs/DS-Py/lib/python2.7/site-packages/ipykernel/__main__.py:4: FutureWarning: sort(columns=....) is deprecated, use sort_values(by=.....)\n"
     ]
    },
    {
     "data": {
      "text/html": [
       "<div>\n",
       "<table border=\"1\" class=\"dataframe\">\n",
       "  <thead>\n",
       "    <tr style=\"text-align: right;\">\n",
       "      <th></th>\n",
       "      <th>Proportion_Shoppers</th>\n",
       "      <th>No_of_Keywords</th>\n",
       "      <th>Proportion_Clicks</th>\n",
       "      <th>Proportion_Impressions</th>\n",
       "      <th>Avg_C</th>\n",
       "    </tr>\n",
       "    <tr>\n",
       "      <th>tag</th>\n",
       "      <th></th>\n",
       "      <th></th>\n",
       "      <th></th>\n",
       "      <th></th>\n",
       "      <th></th>\n",
       "    </tr>\n",
       "  </thead>\n",
       "  <tbody>\n",
       "    <tr>\n",
       "      <th>3_0</th>\n",
       "      <td>0.644473</td>\n",
       "      <td>2</td>\n",
       "      <td>0.725103</td>\n",
       "      <td>0.560456</td>\n",
       "      <td>0.362552</td>\n",
       "    </tr>\n",
       "    <tr>\n",
       "      <th>7_11</th>\n",
       "      <td>0.000740</td>\n",
       "      <td>1</td>\n",
       "      <td>0.012044</td>\n",
       "      <td>0.008543</td>\n",
       "      <td>0.012044</td>\n",
       "    </tr>\n",
       "    <tr>\n",
       "      <th>7_7</th>\n",
       "      <td>0.027617</td>\n",
       "      <td>4</td>\n",
       "      <td>0.030285</td>\n",
       "      <td>0.020636</td>\n",
       "      <td>0.007571</td>\n",
       "    </tr>\n",
       "    <tr>\n",
       "      <th>7_8</th>\n",
       "      <td>0.003019</td>\n",
       "      <td>2</td>\n",
       "      <td>0.008416</td>\n",
       "      <td>0.014057</td>\n",
       "      <td>0.004208</td>\n",
       "    </tr>\n",
       "    <tr>\n",
       "      <th>7_10</th>\n",
       "      <td>0.003399</td>\n",
       "      <td>1</td>\n",
       "      <td>0.004185</td>\n",
       "      <td>0.011959</td>\n",
       "      <td>0.004185</td>\n",
       "    </tr>\n",
       "  </tbody>\n",
       "</table>\n",
       "</div>"
      ],
      "text/plain": [
       "      Proportion_Shoppers  No_of_Keywords  Proportion_Clicks  \\\n",
       "tag                                                            \n",
       "3_0              0.644473               2           0.725103   \n",
       "7_11             0.000740               1           0.012044   \n",
       "7_7              0.027617               4           0.030285   \n",
       "7_8              0.003019               2           0.008416   \n",
       "7_10             0.003399               1           0.004185   \n",
       "\n",
       "      Proportion_Impressions     Avg_C  \n",
       "tag                                     \n",
       "3_0                 0.560456  0.362552  \n",
       "7_11                0.008543  0.012044  \n",
       "7_7                 0.020636  0.007571  \n",
       "7_8                 0.014057  0.004208  \n",
       "7_10                0.011959  0.004185  "
      ]
     },
     "execution_count": 89,
     "metadata": {},
     "output_type": "execute_result"
    }
   ],
   "source": [
    "#_result_sorted = __resultdf_tag.sort(['Proportion_Impressions', 'Proportion_Clicks'], ascending=[0, 0])\n",
    "\n",
    "__resultdf_tag['Avg_C'] = __resultdf_tag['Proportion_Clicks']/__resultdf_tag['No_of_Keywords']\n",
    "_result_sorted = __resultdf_tag.sort(['Avg_C'], ascending=[0])\n",
    "_result_sorted.head()"
   ]
  },
  {
   "cell_type": "code",
   "execution_count": 127,
   "metadata": {
    "collapsed": false
   },
   "outputs": [
    {
     "data": {
      "text/plain": [
       "{'0_1': 'C',\n",
       " '0_2': 'C',\n",
       " '1_0': 'C',\n",
       " '2_1': 'C',\n",
       " '2_2': 'C',\n",
       " '2_3': 'C',\n",
       " '2_4': 'C',\n",
       " '3_0': 'A',\n",
       " '4_1': 'C',\n",
       " '4_2': 'C',\n",
       " '4_3': 'C',\n",
       " '4_4': 'C',\n",
       " '5_1': 'A',\n",
       " '5_2': 'A',\n",
       " '5_3': 'A',\n",
       " '5_4': 'A',\n",
       " '5_5': 'B',\n",
       " '5_6': 'A',\n",
       " '5_7': 'A',\n",
       " '6_1': 'C',\n",
       " '6_2': 'C',\n",
       " '6_3': 'C',\n",
       " '6_4': 'C',\n",
       " '7_1': 'A',\n",
       " '7_10': 'A',\n",
       " '7_11': 'A',\n",
       " '7_2': 'A',\n",
       " '7_3': 'A',\n",
       " '7_4': 'A',\n",
       " '7_5': 'A',\n",
       " '7_6': 'A',\n",
       " '7_7': 'A',\n",
       " '7_8': 'A',\n",
       " '7_9': 'A'}"
      ]
     },
     "execution_count": 127,
     "metadata": {},
     "output_type": "execute_result"
    }
   ],
   "source": [
    "A_c_threshold = 0.95 #0.90 bus #0.35 #0.85 for IF #0.7 for RLSA\n",
    "A_i_threshold = 0.96 #0.95 bus #0.45 #0.95 for IF #0.8 for RLSA\n",
    "B_c_threshold = 0.97 #0.95 bus #0.37 #0.95 for IF #0.8 for RLSA\n",
    "B_i_threshold = 0.98 #0.99 bus #0.47 #0.98 for IF #0.9 for RLSA\n",
    "\n",
    "cum_prop_impr = 0.0\n",
    "cum_prop_clk = 0.0\n",
    "cur_class = 'A'\n",
    "\n",
    "_class_dict = dict()\n",
    "\n",
    "for index, row in _result_sorted.iterrows():\n",
    "    cum_prop_impr = cum_prop_impr + row['Proportion_Impressions']\n",
    "    cum_prop_clk = cum_prop_clk + row['Proportion_Clicks']\n",
    "    _class_dict[index] = cur_class\n",
    "    if (cum_prop_impr >= A_i_threshold) | (cum_prop_clk >= A_c_threshold):\n",
    "        cur_class = 'B'\n",
    "    if (cum_prop_impr >= B_i_threshold) | (cum_prop_clk >= B_c_threshold):\n",
    "        cur_class = 'C'\n",
    "\n",
    "_class_dict"
   ]
  },
  {
   "cell_type": "code",
   "execution_count": 128,
   "metadata": {
    "collapsed": false
   },
   "outputs": [
    {
     "data": {
      "text/plain": [
       "C    38826\n",
       "B    11380\n",
       "A     6827\n",
       "Name: target_class, dtype: int64"
      ]
     },
     "execution_count": 128,
     "metadata": {},
     "output_type": "execute_result"
    }
   ],
   "source": [
    "def genTargetClass(x):\n",
    "    return _class_dict[x['tag']]\n",
    "\n",
    "resultdf['target_class'] = resultdf.apply(lambda x: genTargetClass(x), axis = 1)\n",
    "\n",
    "resultdf.to_csv(output_location+'/Keywords_target_class.csv', index=False)\n",
    "resultdf.head()\n",
    "resultdf['target_class'].value_counts()"
   ]
  },
  {
   "cell_type": "markdown",
   "metadata": {},
   "source": [
    "### Step 5: Discretization of continuous independent variables"
   ]
  },
  {
   "cell_type": "code",
   "execution_count": 129,
   "metadata": {
    "collapsed": false
   },
   "outputs": [
    {
     "name": "stdout",
     "output_type": "stream",
     "text": [
      "\n",
      "Median_Shoppers\n",
      "Bin 2: [0,0]\n",
      "Bin 3: [0.5,2.0]\n",
      "\n",
      "Recency\n",
      "Bin 1: [1,65]\n",
      "Bin 2: [66,114]\n",
      "Bin 3: [115,236]\n",
      "\n",
      "Span\n",
      "Bin 1: [1,115]\n",
      "Bin 2: [116,292]\n",
      "Bin 3: [293,363]\n",
      "\n",
      "Occurrences\n",
      "Bin 1: [1,3]\n",
      "Bin 2: [4,14]\n",
      "Bin 3: [15,357]\n",
      "\n",
      "Median_Impressions\n",
      "Bin 1: [0.5,1.0]\n",
      "Bin 2: [1.5,1.5]\n",
      "Bin 3: [2.0,62186.0]\n",
      "\n",
      "Median_Clicks\n",
      "Bin 2: [1.0,1.0]\n",
      "Bin 3: [1.5,26448.0]\n",
      "\n",
      "Lastweek_Impressions\n",
      "Bin 1: [0,0]\n",
      "Bin 2: [1.0,1.0]\n",
      "Bin 3: [2.0,822122.0]\n",
      "\n",
      "Lastweek_Clicks\n",
      "Bin 1: [0,0]\n",
      "Bin 3: [1.0,351969.0]\n",
      "\n",
      "Lastweek_Shoppers\n",
      "Bin 2: [0,0]\n",
      "\n",
      "Proportion_Clicks\n",
      "Bin 1: [5.61837176103e-08,1.68551152831e-07]\n",
      "Bin 2: [2.24734870441e-07,8.98939481765e-07]\n",
      "Bin 3: [9.55123199375e-07,0.513046561526]\n",
      "\n",
      "Proportion_Impressions\n",
      "Bin 1: [1.79874228702e-08,7.19496914806e-08]\n",
      "Bin 2: [8.99371143508e-08,4.67672994624e-07]\n",
      "Bin 3: [4.85660417494e-07,0.387340822325]\n",
      "\n",
      "Proportion_Shoppers\n",
      "Bin 2: [0,0]\n",
      "Bin 3: [2.61647910872e-06,0.448166240617]\n",
      "\n"
     ]
    }
   ],
   "source": [
    "# equal frequency binning\n",
    "def defineBinsEF(field):\n",
    "    nobs = len(field)\n",
    "    nbins = 3 # np.floor(np.sqrt(nobs))\n",
    "    bins = np.ceil(nbins * stats.rankdata(field)/nobs)\n",
    "    getBinBoundaries(field,bins)\n",
    "    return bins\n",
    "\n",
    "def getBinBoundaries(idata,bins):\n",
    "    for i in set(bins):\n",
    "        ifmatch = np.where(bins==i,1,0)\n",
    "        sdata = idata * ifmatch\n",
    "        if(sum(sdata)==0):\n",
    "            print \"Bin \" + str(int(i)) + \": [0,0]\"\n",
    "        else:\n",
    "            print \"Bin \" + str(int(i)) + \": [\" + str(min(sdata[sdata != 0])) + \",\" + str(max(sdata[sdata != 0])) + \"]\"\n",
    "\n",
    "# equal width binning\n",
    "def defineBinsEW(min,max):\n",
    "    print min, max\n",
    "    bin_width = (max - min)/4\n",
    "    bins = [min]\n",
    "    for i in range(0,4):\n",
    "        last_element = bins[len(bins)-1]\n",
    "        bins.extend([last_element + bin_width])\n",
    "    #print bins\n",
    "    return bins\n",
    "\n",
    "def defineBinNames(feature,bins):\n",
    "    group_names = []\n",
    "    for i in range(0,len(bins)-1):\n",
    "        if(bins[i] < 0.0009):\n",
    "            group_names.extend(['('+ str(\"{:.2E}\".format(bins[i])) + ',' + str(\"{:.2E}\".format(bins[i+1])) + ')'])\n",
    "        else:\n",
    "            group_names.extend(['('+ str(bins[i]) + ',' + str(bins[i+1]) + ')'])\n",
    "    #print group_names\n",
    "    return group_names\n",
    "    \n",
    "def getBins(field, bins, group_names):\n",
    "    categories = pd.cut(field, bins, labels=group_names, include_lowest = True, right = True)\n",
    "    return categories\n",
    "\n",
    "def categorize(field,feature,bintype):\n",
    "    if bintype == \"ew\":\n",
    "        bins = defineBinsEW(min(field),max(field))\n",
    "        group_names = defineBinNames(feature,bins)\n",
    "        resultdf[feature+'_C'] = getBins(field, bins, group_names)\n",
    "        #print pd.value_counts(getBins(field, bins, group_names))\n",
    "    if bintype == \"ef\":\n",
    "        resultdf[feature+'_C'] = defineBinsEF(field)\n",
    "\n",
    "def toTransform(field,feature,bintype):\n",
    "    features_to_be_transformed = ['Span','Proportion_Impressions','Lastweek_Impressions','Lastweek_Clicks','Lastweek_Shoppers',\n",
    "                                  'Proportion_Clicks','Proportion_Shoppers','Occurrences','Median_Impressions','Median_Clicks',\n",
    "                                  'Median_Shoppers','Recency']\n",
    "    if feature in features_to_be_transformed:\n",
    "        print \"\\n\" + feature\n",
    "        categorize(field,feature,bintype)\n",
    "\n",
    "bintype = \"ef\"\n",
    "resultdf.apply(lambda column: toTransform(column, column.__dict__['name'],bintype), axis = 0)\n",
    "\n",
    "print ''"
   ]
  },
  {
   "cell_type": "markdown",
   "metadata": {},
   "source": [
    "### Step 6: Training decision tree"
   ]
  },
  {
   "cell_type": "code",
   "execution_count": 130,
   "metadata": {
    "collapsed": false
   },
   "outputs": [
    {
     "data": {
      "text/plain": [
       "array([ 30.])"
      ]
     },
     "execution_count": 130,
     "metadata": {},
     "output_type": "execute_result"
    }
   ],
   "source": [
    "# SET THE DEPTH OF THE DECISION TREE\n",
    "\n",
    "%R mdepth <- 30"
   ]
  },
  {
   "cell_type": "code",
   "execution_count": 131,
   "metadata": {
    "collapsed": true
   },
   "outputs": [],
   "source": [
    "#result_r = resultdf[['Proportion_Impressions_C','Lastweek_Impressions_C','Lastweek_Clicks_C','Lastweek_Shoppers_C',\n",
    "#                     'Proportion_Clicks_C','Proportion_Shoppers_C','Occurrences_C','Median_Impressions_C','Median_Clicks_C',\n",
    "#                     'Median_Shoppers_C','Recency_C','sub_cluster','cluster','tag','target_class']]\n",
    "\n",
    "result_r = resultdf[['Span_C','Lastweek_Impressions_C','Lastweek_Clicks_C','Lastweek_Shoppers_C',\n",
    "                     'Occurrences_C','Median_Impressions_C','Median_Clicks_C',\n",
    "                     'Median_Shoppers_C','Recency_C','sub_cluster','cluster','tag','target_class']]\n",
    "\n",
    "%Rpush result_r"
   ]
  },
  {
   "cell_type": "code",
   "execution_count": 136,
   "metadata": {
    "collapsed": true
   },
   "outputs": [],
   "source": [
    "%%R \n",
    "result_r[] <- lapply(result_r,factor)\n",
    "rc <- rpart.control(minsplit = 50, cp = 0.01, maxcompete = 4, maxsurrogate = 5, usesurrogate = 2, xval = 10,surrogatestyle = 0, maxdepth = mdepth)\n",
    "\n",
    "fit <- rpart(target_class ~ + Span_C + Lastweek_Impressions_C + Lastweek_Clicks_C + \n",
    "             Lastweek_Shoppers_C + Occurrences_C + Median_Impressions_C + \n",
    "             Median_Clicks_C + Median_Shoppers_C , method=\"class\", data=result_r, control=rc) # + Recency_C"
   ]
  },
  {
   "cell_type": "code",
   "execution_count": 137,
   "metadata": {
    "collapsed": false
   },
   "outputs": [
    {
     "data": {
      "image/png": "[encoded data removed]"
     },
     "metadata": {},
     "output_type": "display_data"
    }
   ],
   "source": [
    "%%R\n",
    "par(xpd=TRUE)\n",
    "prp(fit, \n",
    "    type = 0, \n",
    "    extra = 4, \n",
    "    branch = 0, \n",
    "    uniform = TRUE, \n",
    "    Margin = 0.0,\n",
    "    gap = 1,\n",
    "    varlen = 10,\n",
    "    faclen = 0, \n",
    "    cex = 0.8, \n",
    "    tweak = 1.3, \n",
    "    ycompress = FALSE,\n",
    "    compress = TRUE,\n",
    "    box.col=c(\"green\", \"orange\",\"red\")[fit$frame$yval])\n",
    "    #box.col=0)"
   ]
  },
  {
   "cell_type": "markdown",
   "metadata": {},
   "source": [
    "### Step 7: Performance evaluation (confusion matrix, recall, precision, f1-score)"
   ]
  },
  {
   "cell_type": "code",
   "execution_count": 138,
   "metadata": {
    "collapsed": false
   },
   "outputs": [
    {
     "data": {
      "text/plain": [
       "[C, C, C, C, C, ..., A, A, A, A, A]\n",
       "Length: 57033\n",
       "Categories (3, object): [A, B, C]"
      ]
     },
     "execution_count": 138,
     "metadata": {},
     "output_type": "execute_result"
    }
   ],
   "source": [
    "# IDENTIFY THE TARGET VARIABLE\n",
    "\n",
    "%R tag <- result_r$target_class"
   ]
  },
  {
   "cell_type": "code",
   "execution_count": 139,
   "metadata": {
    "collapsed": false
   },
   "outputs": [
    {
     "data": {
      "text/plain": [
       "CONFUSION MATRIX    tag\n",
       "pred     A     B     C\n",
       "   A  6057  2505   177\n",
       "   B   609  8549  1091\n",
       "   C   161   326 37558\n",
       "\n",
       "TOTAL DATA POINTS: 57033 \n",
       "TRUE POSITIVES: 52164 \n",
       "TRUE POSITIVE RATE: 0.914628373047183\n",
       "\n",
       "RECALL\n",
       "        A         B         C \n",
       "0.8872125 0.7512302 0.9673415 \n",
       "\n",
       "PRECISION\n",
       "        A         B         C \n",
       "0.6930999 0.8341302 0.9871994 \n",
       "\n",
       "F1 SCORE\n",
       "        A         B         C \n",
       "0.7782346 0.7905127 0.9771695 \n"
      ]
     },
     "metadata": {},
     "output_type": "display_data"
    }
   ],
   "source": [
    "%%R\n",
    "pred <- predict(fit,type=\"class\")\n",
    "confusion_matrix <- table(pred,tag)\n",
    "cat(\"CONFUSION MATRIX\")\n",
    "print(confusion_matrix)\n",
    "\n",
    "total_data_points <- sum(confusion_matrix)\n",
    "true_positive <- sum(diag(confusion_matrix))\n",
    "true_positive_rate <- true_positive/total_data_points\n",
    "cat(paste('\\nTOTAL DATA POINTS:',total_data_points,'\\nTRUE POSITIVES:',true_positive,'\\nTRUE POSITIVE RATE:',true_positive_rate))\n",
    "\n",
    "recall_each_class <- diag(confusion_matrix)/apply(confusion_matrix, 2, sum)\n",
    "cat('\\n\\nRECALL\\n')\n",
    "print(recall_each_class)\n",
    "\n",
    "precision_each_class <- diag(confusion_matrix)/apply(confusion_matrix, 1, sum)\n",
    "cat('\\nPRECISION\\n')\n",
    "print(precision_each_class)\n",
    "\n",
    "f1score_each_class <- 2 * (recall_each_class * precision_each_class) / (recall_each_class + precision_each_class)\n",
    "cat('\\nF1 SCORE\\n')\n",
    "print(f1score_each_class)"
   ]
  },
  {
   "cell_type": "code",
   "execution_count": null,
   "metadata": {
    "collapsed": true
   },
   "outputs": [],
   "source": []
  }
 ],
 "metadata": {
  "anaconda-cloud": {},
  "kernelspec": {
   "display_name": "Python [conda root]",
   "language": "python",
   "name": "conda-root-py"
  },
  "language_info": {
   "codemirror_mode": {
    "name": "ipython",
    "version": 3
   },
   "file_extension": ".py",
   "mimetype": "text/x-python",
   "name": "python",
   "nbconvert_exporter": "python",
   "pygments_lexer": "ipython3",
   "version": "3.5.2"
  }
 },
 "nbformat": 4,
 "nbformat_minor": 0
}
